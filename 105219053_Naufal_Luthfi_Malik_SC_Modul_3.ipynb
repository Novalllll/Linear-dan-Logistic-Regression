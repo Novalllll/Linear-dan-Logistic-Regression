{
  "metadata": {
    "kernelspec": {
      "language": "python",
      "display_name": "Python 3",
      "name": "python3"
    },
    "language_info": {
      "name": "python",
      "version": "3.7.12",
      "mimetype": "text/x-python",
      "codemirror_mode": {
        "name": "ipython",
        "version": 3
      },
      "pygments_lexer": "ipython3",
      "nbconvert_exporter": "python",
      "file_extension": ".py"
    },
    "colab": {
      "name": "105219053_Naufal Luthfi Malik_SC Modul 3.ipynb",
      "provenance": [],
      "collapsed_sections": []
    }
  },
  "nbformat_minor": 0,
  "nbformat": 4,
  "cells": [
    {
      "cell_type": "markdown",
      "source": [
        "# 1. Import Data dan Library\n",
        "Pada tahap pertama ini saya menambahkan library-library yang kemungkinan akan saya perlukan untuk melakukan proses selanjutnya. dan saya juga meng-upload dataset yang akan saya gunakan"
      ],
      "metadata": {
        "id": "TNckFZgi0FE7"
      }
    },
    {
      "cell_type": "code",
      "source": [
        "# This Python 3 environment comes with many helpful analytics libraries installed\n",
        "# It is defined by the kaggle/python Docker image: https://github.com/kaggle/docker-python\n",
        "# For example, here's several helpful packages to load\n",
        "\n",
        "import numpy as np # linear algebra\n",
        "import pandas as pd # data processing, CSV file I/O (e.g. pd.read_csv)\n",
        "import pandas as pd\n",
        "import numpy as np\n",
        "import matplotlib.pyplot as plt\n",
        "import seaborn as sns\n",
        "from math import log\n",
        "\n",
        "from sklearn.preprocessing import MinMaxScaler\n",
        "from sklearn.feature_selection import RFECV\n",
        "from sklearn.model_selection import train_test_split, GridSearchCV, KFold, learning_curve, ShuffleSplit\n",
        "from sklearn.ensemble import RandomForestRegressor\n",
        "from sklearn.linear_model import LinearRegression\n",
        "from time import time\n",
        "\n",
        "# Input data files are available in the read-only \"../input/\" directory\n",
        "# For example, running this (by clicking run or pressing Shift+Enter) will list all files under the input directory\n",
        "\n",
        "# import os\n",
        "# for dirname, _, filenames in os.walk('/kaggle/input'):\n",
        "#     for filename in filenames:\n",
        "#         print(os.path.join(dirname, filename))\n",
        "\n",
        "# You can write up to 20GB to the current directory (/kaggle/working/) that gets preserved as output when you create a version using \"Save & Run All\" \n",
        "# You can also write temporary files to /kaggle/temp/, but they won't be saved outside of the current session"
      ],
      "metadata": {
        "execution": {
          "iopub.status.busy": "2022-03-19T05:59:16.397026Z",
          "iopub.execute_input": "2022-03-19T05:59:16.397326Z",
          "iopub.status.idle": "2022-03-19T05:59:16.824555Z",
          "shell.execute_reply.started": "2022-03-19T05:59:16.397295Z",
          "shell.execute_reply": "2022-03-19T05:59:16.823655Z"
        },
        "trusted": true,
        "id": "J9SSdJtGuy5m"
      },
      "execution_count": 64,
      "outputs": []
    },
    {
      "cell_type": "code",
      "source": [
        "df = pd.read_csv('Fish.csv')\n",
        "df.head()"
      ],
      "metadata": {
        "execution": {
          "iopub.status.busy": "2022-03-19T05:47:25.468559Z",
          "iopub.execute_input": "2022-03-19T05:47:25.468856Z",
          "iopub.status.idle": "2022-03-19T05:47:25.500908Z",
          "shell.execute_reply.started": "2022-03-19T05:47:25.468824Z",
          "shell.execute_reply": "2022-03-19T05:47:25.500372Z"
        },
        "trusted": true,
        "colab": {
          "base_uri": "https://localhost:8080/",
          "height": 206
        },
        "id": "HKelMBGAuy5o",
        "outputId": "e1d7fd52-9f1c-4d35-8f14-92aeb58513ef"
      },
      "execution_count": 65,
      "outputs": [
        {
          "output_type": "execute_result",
          "data": {
            "text/plain": [
              "  Species  Weight  Length1  Length2  Length3   Height   Width\n",
              "0   Bream   242.0     23.2     25.4     30.0  11.5200  4.0200\n",
              "1   Bream   290.0     24.0     26.3     31.2  12.4800  4.3056\n",
              "2   Bream   340.0     23.9     26.5     31.1  12.3778  4.6961\n",
              "3   Bream   363.0     26.3     29.0     33.5  12.7300  4.4555\n",
              "4   Bream   430.0     26.5     29.0     34.0  12.4440  5.1340"
            ],
            "text/html": [
              "\n",
              "  <div id=\"df-744c913e-8b21-455f-8fff-5e19cadea999\">\n",
              "    <div class=\"colab-df-container\">\n",
              "      <div>\n",
              "<style scoped>\n",
              "    .dataframe tbody tr th:only-of-type {\n",
              "        vertical-align: middle;\n",
              "    }\n",
              "\n",
              "    .dataframe tbody tr th {\n",
              "        vertical-align: top;\n",
              "    }\n",
              "\n",
              "    .dataframe thead th {\n",
              "        text-align: right;\n",
              "    }\n",
              "</style>\n",
              "<table border=\"1\" class=\"dataframe\">\n",
              "  <thead>\n",
              "    <tr style=\"text-align: right;\">\n",
              "      <th></th>\n",
              "      <th>Species</th>\n",
              "      <th>Weight</th>\n",
              "      <th>Length1</th>\n",
              "      <th>Length2</th>\n",
              "      <th>Length3</th>\n",
              "      <th>Height</th>\n",
              "      <th>Width</th>\n",
              "    </tr>\n",
              "  </thead>\n",
              "  <tbody>\n",
              "    <tr>\n",
              "      <th>0</th>\n",
              "      <td>Bream</td>\n",
              "      <td>242.0</td>\n",
              "      <td>23.2</td>\n",
              "      <td>25.4</td>\n",
              "      <td>30.0</td>\n",
              "      <td>11.5200</td>\n",
              "      <td>4.0200</td>\n",
              "    </tr>\n",
              "    <tr>\n",
              "      <th>1</th>\n",
              "      <td>Bream</td>\n",
              "      <td>290.0</td>\n",
              "      <td>24.0</td>\n",
              "      <td>26.3</td>\n",
              "      <td>31.2</td>\n",
              "      <td>12.4800</td>\n",
              "      <td>4.3056</td>\n",
              "    </tr>\n",
              "    <tr>\n",
              "      <th>2</th>\n",
              "      <td>Bream</td>\n",
              "      <td>340.0</td>\n",
              "      <td>23.9</td>\n",
              "      <td>26.5</td>\n",
              "      <td>31.1</td>\n",
              "      <td>12.3778</td>\n",
              "      <td>4.6961</td>\n",
              "    </tr>\n",
              "    <tr>\n",
              "      <th>3</th>\n",
              "      <td>Bream</td>\n",
              "      <td>363.0</td>\n",
              "      <td>26.3</td>\n",
              "      <td>29.0</td>\n",
              "      <td>33.5</td>\n",
              "      <td>12.7300</td>\n",
              "      <td>4.4555</td>\n",
              "    </tr>\n",
              "    <tr>\n",
              "      <th>4</th>\n",
              "      <td>Bream</td>\n",
              "      <td>430.0</td>\n",
              "      <td>26.5</td>\n",
              "      <td>29.0</td>\n",
              "      <td>34.0</td>\n",
              "      <td>12.4440</td>\n",
              "      <td>5.1340</td>\n",
              "    </tr>\n",
              "  </tbody>\n",
              "</table>\n",
              "</div>\n",
              "      <button class=\"colab-df-convert\" onclick=\"convertToInteractive('df-744c913e-8b21-455f-8fff-5e19cadea999')\"\n",
              "              title=\"Convert this dataframe to an interactive table.\"\n",
              "              style=\"display:none;\">\n",
              "        \n",
              "  <svg xmlns=\"http://www.w3.org/2000/svg\" height=\"24px\"viewBox=\"0 0 24 24\"\n",
              "       width=\"24px\">\n",
              "    <path d=\"M0 0h24v24H0V0z\" fill=\"none\"/>\n",
              "    <path d=\"M18.56 5.44l.94 2.06.94-2.06 2.06-.94-2.06-.94-.94-2.06-.94 2.06-2.06.94zm-11 1L8.5 8.5l.94-2.06 2.06-.94-2.06-.94L8.5 2.5l-.94 2.06-2.06.94zm10 10l.94 2.06.94-2.06 2.06-.94-2.06-.94-.94-2.06-.94 2.06-2.06.94z\"/><path d=\"M17.41 7.96l-1.37-1.37c-.4-.4-.92-.59-1.43-.59-.52 0-1.04.2-1.43.59L10.3 9.45l-7.72 7.72c-.78.78-.78 2.05 0 2.83L4 21.41c.39.39.9.59 1.41.59.51 0 1.02-.2 1.41-.59l7.78-7.78 2.81-2.81c.8-.78.8-2.07 0-2.86zM5.41 20L4 18.59l7.72-7.72 1.47 1.35L5.41 20z\"/>\n",
              "  </svg>\n",
              "      </button>\n",
              "      \n",
              "  <style>\n",
              "    .colab-df-container {\n",
              "      display:flex;\n",
              "      flex-wrap:wrap;\n",
              "      gap: 12px;\n",
              "    }\n",
              "\n",
              "    .colab-df-convert {\n",
              "      background-color: #E8F0FE;\n",
              "      border: none;\n",
              "      border-radius: 50%;\n",
              "      cursor: pointer;\n",
              "      display: none;\n",
              "      fill: #1967D2;\n",
              "      height: 32px;\n",
              "      padding: 0 0 0 0;\n",
              "      width: 32px;\n",
              "    }\n",
              "\n",
              "    .colab-df-convert:hover {\n",
              "      background-color: #E2EBFA;\n",
              "      box-shadow: 0px 1px 2px rgba(60, 64, 67, 0.3), 0px 1px 3px 1px rgba(60, 64, 67, 0.15);\n",
              "      fill: #174EA6;\n",
              "    }\n",
              "\n",
              "    [theme=dark] .colab-df-convert {\n",
              "      background-color: #3B4455;\n",
              "      fill: #D2E3FC;\n",
              "    }\n",
              "\n",
              "    [theme=dark] .colab-df-convert:hover {\n",
              "      background-color: #434B5C;\n",
              "      box-shadow: 0px 1px 3px 1px rgba(0, 0, 0, 0.15);\n",
              "      filter: drop-shadow(0px 1px 2px rgba(0, 0, 0, 0.3));\n",
              "      fill: #FFFFFF;\n",
              "    }\n",
              "  </style>\n",
              "\n",
              "      <script>\n",
              "        const buttonEl =\n",
              "          document.querySelector('#df-744c913e-8b21-455f-8fff-5e19cadea999 button.colab-df-convert');\n",
              "        buttonEl.style.display =\n",
              "          google.colab.kernel.accessAllowed ? 'block' : 'none';\n",
              "\n",
              "        async function convertToInteractive(key) {\n",
              "          const element = document.querySelector('#df-744c913e-8b21-455f-8fff-5e19cadea999');\n",
              "          const dataTable =\n",
              "            await google.colab.kernel.invokeFunction('convertToInteractive',\n",
              "                                                     [key], {});\n",
              "          if (!dataTable) return;\n",
              "\n",
              "          const docLinkHtml = 'Like what you see? Visit the ' +\n",
              "            '<a target=\"_blank\" href=https://colab.research.google.com/notebooks/data_table.ipynb>data table notebook</a>'\n",
              "            + ' to learn more about interactive tables.';\n",
              "          element.innerHTML = '';\n",
              "          dataTable['output_type'] = 'display_data';\n",
              "          await google.colab.output.renderOutput(dataTable, element);\n",
              "          const docLink = document.createElement('div');\n",
              "          docLink.innerHTML = docLinkHtml;\n",
              "          element.appendChild(docLink);\n",
              "        }\n",
              "      </script>\n",
              "    </div>\n",
              "  </div>\n",
              "  "
            ]
          },
          "metadata": {},
          "execution_count": 65
        }
      ]
    },
    {
      "cell_type": "markdown",
      "source": [
        "Disini saya berhasil mengupload dan membaca dataset yang saya perlukan"
      ],
      "metadata": {
        "id": "oRiZ-rPM0hyb"
      }
    },
    {
      "cell_type": "markdown",
      "source": [
        "# 2. EXPLORATORY DATA ANALYSIS\n",
        "Dalam tahapan ini saya akan melakukan visualisasi dan mendeteksi apakah dalam dataset saya terdapat outlier, sehingga dapat memudahkan saya dalam tahapan Pre-Processing"
      ],
      "metadata": {
        "id": "PST_n8vayZ8n"
      }
    },
    {
      "cell_type": "code",
      "source": [
        "df.info"
      ],
      "metadata": {
        "colab": {
          "base_uri": "https://localhost:8080/"
        },
        "id": "m7CtcHzDyhh1",
        "outputId": "c4e6cea0-5b0b-4db4-aa7b-0e35211251bc"
      },
      "execution_count": 66,
      "outputs": [
        {
          "output_type": "execute_result",
          "data": {
            "text/plain": [
              "<bound method DataFrame.info of     Species  Weight  Length1  Length2  Length3   Height   Width\n",
              "0     Bream   242.0     23.2     25.4     30.0  11.5200  4.0200\n",
              "1     Bream   290.0     24.0     26.3     31.2  12.4800  4.3056\n",
              "2     Bream   340.0     23.9     26.5     31.1  12.3778  4.6961\n",
              "3     Bream   363.0     26.3     29.0     33.5  12.7300  4.4555\n",
              "4     Bream   430.0     26.5     29.0     34.0  12.4440  5.1340\n",
              "..      ...     ...      ...      ...      ...      ...     ...\n",
              "154   Smelt    12.2     11.5     12.2     13.4   2.0904  1.3936\n",
              "155   Smelt    13.4     11.7     12.4     13.5   2.4300  1.2690\n",
              "156   Smelt    12.2     12.1     13.0     13.8   2.2770  1.2558\n",
              "157   Smelt    19.7     13.2     14.3     15.2   2.8728  2.0672\n",
              "158   Smelt    19.9     13.8     15.0     16.2   2.9322  1.8792\n",
              "\n",
              "[159 rows x 7 columns]>"
            ]
          },
          "metadata": {},
          "execution_count": 66
        }
      ]
    },
    {
      "cell_type": "code",
      "source": [
        "df.isnull().sum()"
      ],
      "metadata": {
        "colab": {
          "base_uri": "https://localhost:8080/"
        },
        "id": "KfBxn7XI5Aa2",
        "outputId": "955fa06b-f420-4c4f-fa12-c219c60efc45"
      },
      "execution_count": 67,
      "outputs": [
        {
          "output_type": "execute_result",
          "data": {
            "text/plain": [
              "Species    0\n",
              "Weight     0\n",
              "Length1    0\n",
              "Length2    0\n",
              "Length3    0\n",
              "Height     0\n",
              "Width      0\n",
              "dtype: int64"
            ]
          },
          "metadata": {},
          "execution_count": 67
        }
      ]
    },
    {
      "cell_type": "markdown",
      "source": [
        "Kode diatas digunakan untuk mengecek apakah dalam dataset kita terdapat nilai kosong atau Null. Dan setelah saya cek ternyata di dataset saya tidak terdapat nilai kosong"
      ],
      "metadata": {
        "id": "3HnOnG5e5Eqs"
      }
    },
    {
      "cell_type": "code",
      "source": [
        "df.Species.unique()"
      ],
      "metadata": {
        "colab": {
          "base_uri": "https://localhost:8080/"
        },
        "id": "9l_dQkpQ_Yyj",
        "outputId": "3f9fe70d-86ee-4f0c-9a2f-9a868058bf4b"
      },
      "execution_count": 68,
      "outputs": [
        {
          "output_type": "execute_result",
          "data": {
            "text/plain": [
              "array(['Bream', 'Roach', 'Whitefish', 'Parkki', 'Perch', 'Pike', 'Smelt'],\n",
              "      dtype=object)"
            ]
          },
          "metadata": {},
          "execution_count": 68
        }
      ]
    },
    {
      "cell_type": "code",
      "source": [
        "sns.factorplot('Species','Length1',data=df)\n",
        "plt.show()\n",
        "print('')\n",
        "print('Max length of fish:',df['Length1'].max())\n",
        "print('Min length of fish:',df['Length1'].min())\n",
        "print('Average length of fish:',df['Length1'].mean())\n",
        "print('')"
      ],
      "metadata": {
        "colab": {
          "base_uri": "https://localhost:8080/",
          "height": 595
        },
        "id": "iPwi-7YI_5nl",
        "outputId": "e14a3dd4-6be8-4df3-af76-b1c937302465"
      },
      "execution_count": 69,
      "outputs": [
        {
          "output_type": "stream",
          "name": "stderr",
          "text": [
            "/usr/local/lib/python3.7/dist-packages/seaborn/categorical.py:3717: UserWarning:\n",
            "\n",
            "The `factorplot` function has been renamed to `catplot`. The original name will be removed in a future release. Please update your code. Note that the default `kind` in `factorplot` (`'point'`) has changed `'strip'` in `catplot`.\n",
            "\n",
            "/usr/local/lib/python3.7/dist-packages/seaborn/_decorators.py:43: FutureWarning:\n",
            "\n",
            "Pass the following variables as keyword args: x, y. From version 0.12, the only valid positional argument will be `data`, and passing other arguments without an explicit keyword will result in an error or misinterpretation.\n",
            "\n"
          ]
        },
        {
          "output_type": "display_data",
          "data": {
            "text/plain": [
              "<Figure size 360x360 with 1 Axes>"
            ],
            "image/png": "[encoded data removed]"
          },
          "metadata": {
            "needs_background": "light"
          }
        },
        {
          "output_type": "stream",
          "name": "stdout",
          "text": [
            "\n",
            "Max length of fish: 59.0\n",
            "Min length of fish: 7.5\n",
            "Average length of fish: 26.24716981132075\n",
            "\n"
          ]
        }
      ]
    },
    {
      "cell_type": "markdown",
      "source": [
        "Dapat dilihat bahwa maximum panjang dari ikan yaitu 53,17, Minimum 7,5, dan rata-rata panjang ikan yaitu 26,17"
      ],
      "metadata": {
        "id": "l0_jQl4dBGKw"
      }
    },
    {
      "cell_type": "code",
      "source": [
        "y = df.Weight.values.reshape(-1,1)\n",
        "x = df.Length2.values.reshape(-1,1)\n",
        "\n",
        "plt.scatter(x,y,color='orange')\n",
        "plt.ylabel(\"weight of fish in Gram\")\n",
        "plt.xlabel(\"diagonal width in cm\")"
      ],
      "metadata": {
        "colab": {
          "base_uri": "https://localhost:8080/",
          "height": 296
        },
        "id": "MGiJP1i6CCrx",
        "outputId": "19f67be8-6530-4e50-d586-712eeeb214c1"
      },
      "execution_count": 70,
      "outputs": [
        {
          "output_type": "execute_result",
          "data": {
            "text/plain": [
              "Text(0.5, 0, 'diagonal width in cm')"
            ]
          },
          "metadata": {},
          "execution_count": 70
        },
        {
          "output_type": "display_data",
          "data": {
            "text/plain": [
              "<Figure size 432x288 with 1 Axes>"
            ],
            "image/png": "[encoded data removed]"
          },
          "metadata": {
            "needs_background": "light"
          }
        }
      ]
    },
    {
      "cell_type": "markdown",
      "source": [
        "Diatas merupakan scatter plot dari dataset fish market berdasarkan panjang dan berat ikan"
      ],
      "metadata": {
        "id": "i3yBFxWVCGQ1"
      }
    },
    {
      "cell_type": "markdown",
      "source": [
        "# 3. PRE-PROCESSING\n",
        "Pada tahapan pre processing ini saya akan mencoba untuk menghilangkan outlier pada kolom Weight, Length1, Length2, dan Length3 dengan menggantikan outlier value atau nilai outlier dengan menggunakan metode IQR"
      ],
      "metadata": {
        "id": "2ytyJtS4Cam4"
      }
    },
    {
      "cell_type": "code",
      "source": [
        "plt.figure(figsize=(20, 15))\n",
        "sns.boxplot(data=df.iloc[:, :10], orient=\"z\")\n",
        "\n",
        "plt.title(\"BoxPlot Fish Market\")\n",
        "plt.xlabel('Species')\n",
        "plt.ylabel('Weight')\n",
        "\n",
        "plt.show()"
      ],
      "metadata": {
        "colab": {
          "base_uri": "https://localhost:8080/",
          "height": 892
        },
        "id": "iqIbjuTZzBg0",
        "outputId": "a8bfdd52-e584-4b42-8c33-45f2a0df4706"
      },
      "execution_count": 71,
      "outputs": [
        {
          "output_type": "display_data",
          "data": {
            "text/plain": [
              "<Figure size 1440x1080 with 1 Axes>"
            ],
            "image/png": "[encoded data removed]"
          },
          "metadata": {
            "needs_background": "light"
          }
        }
      ]
    },
    {
      "cell_type": "markdown",
      "source": [
        "Setelah di visualisasi menggunakan boxplot terdapat outlier di kolom Weight, Length1, Length2, dan Length3"
      ],
      "metadata": {
        "id": "l_VZ6UPCzoEQ"
      }
    },
    {
      "cell_type": "code",
      "source": [
        "def remove_outlier(col):\n",
        "    sorted(col)\n",
        "    Q1,Q3 = col.quantile([0.25,0.75])\n",
        "    IQR = Q3-Q1\n",
        "    lower_range = Q1 - (1.5*IQR)\n",
        "    upper_range = Q3 + (1.5*IQR)\n",
        "    return lower_range, upper_range"
      ],
      "metadata": {
        "id": "U9dhRQwXzynb"
      },
      "execution_count": 72,
      "outputs": []
    },
    {
      "cell_type": "markdown",
      "source": [
        "Dari kode di atas, saya membuat sebuah fungsi, yaitu remove outlier, yang akan menerima sebuah argumen berupa nama dari kolom. Kemudian akan ditentukan nilai lower dan upper range dari data tersebut.\n",
        "\n"
      ],
      "metadata": {
        "id": "crsiG40o1qBM"
      }
    },
    {
      "cell_type": "code",
      "source": [
        "LowFish, UpperFish = remove_outlier(df['Weight'])\n",
        "df['Weight'] = np.where(df['Weight']>UpperFish,UpperFish,df['Weight'])\n",
        "df['Weight'] = np.where(df['Weight']<LowFish,UpperFish,df['Weight'])\n",
        "LowFish, UpperFish = remove_outlier(df['Length1'])\n",
        "df['Length1'] = np.where(df['Length1']>UpperFish,UpperFish,df['Length1'])\n",
        "df['Length1'] = np.where(df['Length1']<LowFish,UpperFish,df['Length1'])\n",
        "LowFish, UpperFish = remove_outlier(df['Length2'])\n",
        "df['Length2'] = np.where(df['Length2']>UpperFish,UpperFish,df['Length2'])\n",
        "df['Length2'] = np.where(df['Length2']<LowFish,UpperFish,df['Length2'])\n",
        "LowFish, UpperFish = remove_outlier(df['Length3'])\n",
        "df['Length3'] = np.where(df['Length3']>UpperFish,UpperFish,df['Length3'])\n",
        "df['Length3'] = np.where(df['Length3']<LowFish,UpperFish,df['Length3'])\n"
      ],
      "metadata": {
        "id": "2dt8hs6555CW"
      },
      "execution_count": 73,
      "outputs": []
    },
    {
      "cell_type": "code",
      "source": [
        "plt.figure(figsize=(20, 15))\n",
        "sns.boxplot(data=df.iloc[:, :10], orient=\"z\")\n",
        "\n",
        "plt.title(\"BoxPlot Tiap Minggu\")\n",
        "plt.xlabel('Species')\n",
        "plt.ylabel('Weight')\n",
        "\n",
        "plt.show()"
      ],
      "metadata": {
        "colab": {
          "base_uri": "https://localhost:8080/",
          "height": 892
        },
        "id": "HiWkoMo61buj",
        "outputId": "24275d4a-a069-4b00-c4f1-68c777894e35"
      },
      "execution_count": 74,
      "outputs": [
        {
          "output_type": "display_data",
          "data": {
            "text/plain": [
              "<Figure size 1440x1080 with 1 Axes>"
            ],
            "image/png": "[encoded data removed]"
          },
          "metadata": {
            "needs_background": "light"
          }
        }
      ]
    },
    {
      "cell_type": "markdown",
      "source": [
        "Berikut adalah tampilan boxplot setelah saya melakukan removing outlier sehingga tidak terdapat kolom yang memiliki nilai di atas batas maksimum dan dapat dikatan saya telah berhasil untuk menghilangkan outlier tersebut di setiap kolomnya"
      ],
      "metadata": {
        "id": "YzRQ9AY-BdEH"
      }
    },
    {
      "cell_type": "markdown",
      "source": [
        "# 4. LINEAR REGRESSION"
      ],
      "metadata": {
        "id": "WQ1jHyUlPIEB"
      }
    },
    {
      "cell_type": "code",
      "source": [
        "# Encoding\n",
        "species_encoded = pd.get_dummies(df['Species'])\n",
        "label = df['Weight']\n",
        "features = df.drop(columns=['Species', 'Weight'])\n",
        "\n",
        "print('=== Species Encoded ===')\n",
        "display(species_encoded.head(3))\n",
        "print('')\n",
        "print('=== Label ===')\n",
        "display(label.head(3))\n",
        "print('')\n",
        "print('=== Features ===')\n",
        "display(features.head(3))"
      ],
      "metadata": {
        "execution": {
          "iopub.status.busy": "2022-03-19T05:51:47.562858Z",
          "iopub.execute_input": "2022-03-19T05:51:47.563309Z",
          "iopub.status.idle": "2022-03-19T05:51:47.587820Z",
          "shell.execute_reply.started": "2022-03-19T05:51:47.563276Z",
          "shell.execute_reply": "2022-03-19T05:51:47.587226Z"
        },
        "trusted": true,
        "colab": {
          "base_uri": "https://localhost:8080/",
          "height": 426
        },
        "id": "A4j1EodWuy5p",
        "outputId": "e3bb9d17-3c3b-43a2-8489-7fff19b44c98"
      },
      "execution_count": 75,
      "outputs": [
        {
          "output_type": "stream",
          "name": "stdout",
          "text": [
            "=== Species Encoded ===\n"
          ]
        },
        {
          "output_type": "display_data",
          "data": {
            "text/plain": [
              "   Bream  Parkki  Perch  Pike  Roach  Smelt  Whitefish\n",
              "0      1       0      0     0      0      0          0\n",
              "1      1       0      0     0      0      0          0\n",
              "2      1       0      0     0      0      0          0"
            ],
            "text/html": [
              "\n",
              "  <div id=\"df-c02858bb-78b7-482d-b065-d9c435297633\">\n",
              "    <div class=\"colab-df-container\">\n",
              "      <div>\n",
              "<style scoped>\n",
              "    .dataframe tbody tr th:only-of-type {\n",
              "        vertical-align: middle;\n",
              "    }\n",
              "\n",
              "    .dataframe tbody tr th {\n",
              "        vertical-align: top;\n",
              "    }\n",
              "\n",
              "    .dataframe thead th {\n",
              "        text-align: right;\n",
              "    }\n",
              "</style>\n",
              "<table border=\"1\" class=\"dataframe\">\n",
              "  <thead>\n",
              "    <tr style=\"text-align: right;\">\n",
              "      <th></th>\n",
              "      <th>Bream</th>\n",
              "      <th>Parkki</th>\n",
              "      <th>Perch</th>\n",
              "      <th>Pike</th>\n",
              "      <th>Roach</th>\n",
              "      <th>Smelt</th>\n",
              "      <th>Whitefish</th>\n",
              "    </tr>\n",
              "  </thead>\n",
              "  <tbody>\n",
              "    <tr>\n",
              "      <th>0</th>\n",
              "      <td>1</td>\n",
              "      <td>0</td>\n",
              "      <td>0</td>\n",
              "      <td>0</td>\n",
              "      <td>0</td>\n",
              "      <td>0</td>\n",
              "      <td>0</td>\n",
              "    </tr>\n",
              "    <tr>\n",
              "      <th>1</th>\n",
              "      <td>1</td>\n",
              "      <td>0</td>\n",
              "      <td>0</td>\n",
              "      <td>0</td>\n",
              "      <td>0</td>\n",
              "      <td>0</td>\n",
              "      <td>0</td>\n",
              "    </tr>\n",
              "    <tr>\n",
              "      <th>2</th>\n",
              "      <td>1</td>\n",
              "      <td>0</td>\n",
              "      <td>0</td>\n",
              "      <td>0</td>\n",
              "      <td>0</td>\n",
              "      <td>0</td>\n",
              "      <td>0</td>\n",
              "    </tr>\n",
              "  </tbody>\n",
              "</table>\n",
              "</div>\n",
              "      <button class=\"colab-df-convert\" onclick=\"convertToInteractive('df-c02858bb-78b7-482d-b065-d9c435297633')\"\n",
              "              title=\"Convert this dataframe to an interactive table.\"\n",
              "              style=\"display:none;\">\n",
              "        \n",
              "  <svg xmlns=\"http://www.w3.org/2000/svg\" height=\"24px\"viewBox=\"0 0 24 24\"\n",
              "       width=\"24px\">\n",
              "    <path d=\"M0 0h24v24H0V0z\" fill=\"none\"/>\n",
              "    <path d=\"M18.56 5.44l.94 2.06.94-2.06 2.06-.94-2.06-.94-.94-2.06-.94 2.06-2.06.94zm-11 1L8.5 8.5l.94-2.06 2.06-.94-2.06-.94L8.5 2.5l-.94 2.06-2.06.94zm10 10l.94 2.06.94-2.06 2.06-.94-2.06-.94-.94-2.06-.94 2.06-2.06.94z\"/><path d=\"M17.41 7.96l-1.37-1.37c-.4-.4-.92-.59-1.43-.59-.52 0-1.04.2-1.43.59L10.3 9.45l-7.72 7.72c-.78.78-.78 2.05 0 2.83L4 21.41c.39.39.9.59 1.41.59.51 0 1.02-.2 1.41-.59l7.78-7.78 2.81-2.81c.8-.78.8-2.07 0-2.86zM5.41 20L4 18.59l7.72-7.72 1.47 1.35L5.41 20z\"/>\n",
              "  </svg>\n",
              "      </button>\n",
              "      \n",
              "  <style>\n",
              "    .colab-df-container {\n",
              "      display:flex;\n",
              "      flex-wrap:wrap;\n",
              "      gap: 12px;\n",
              "    }\n",
              "\n",
              "    .colab-df-convert {\n",
              "      background-color: #E8F0FE;\n",
              "      border: none;\n",
              "      border-radius: 50%;\n",
              "      cursor: pointer;\n",
              "      display: none;\n",
              "      fill: #1967D2;\n",
              "      height: 32px;\n",
              "      padding: 0 0 0 0;\n",
              "      width: 32px;\n",
              "    }\n",
              "\n",
              "    .colab-df-convert:hover {\n",
              "      background-color: #E2EBFA;\n",
              "      box-shadow: 0px 1px 2px rgba(60, 64, 67, 0.3), 0px 1px 3px 1px rgba(60, 64, 67, 0.15);\n",
              "      fill: #174EA6;\n",
              "    }\n",
              "\n",
              "    [theme=dark] .colab-df-convert {\n",
              "      background-color: #3B4455;\n",
              "      fill: #D2E3FC;\n",
              "    }\n",
              "\n",
              "    [theme=dark] .colab-df-convert:hover {\n",
              "      background-color: #434B5C;\n",
              "      box-shadow: 0px 1px 3px 1px rgba(0, 0, 0, 0.15);\n",
              "      filter: drop-shadow(0px 1px 2px rgba(0, 0, 0, 0.3));\n",
              "      fill: #FFFFFF;\n",
              "    }\n",
              "  </style>\n",
              "\n",
              "      <script>\n",
              "        const buttonEl =\n",
              "          document.querySelector('#df-c02858bb-78b7-482d-b065-d9c435297633 button.colab-df-convert');\n",
              "        buttonEl.style.display =\n",
              "          google.colab.kernel.accessAllowed ? 'block' : 'none';\n",
              "\n",
              "        async function convertToInteractive(key) {\n",
              "          const element = document.querySelector('#df-c02858bb-78b7-482d-b065-d9c435297633');\n",
              "          const dataTable =\n",
              "            await google.colab.kernel.invokeFunction('convertToInteractive',\n",
              "                                                     [key], {});\n",
              "          if (!dataTable) return;\n",
              "\n",
              "          const docLinkHtml = 'Like what you see? Visit the ' +\n",
              "            '<a target=\"_blank\" href=https://colab.research.google.com/notebooks/data_table.ipynb>data table notebook</a>'\n",
              "            + ' to learn more about interactive tables.';\n",
              "          element.innerHTML = '';\n",
              "          dataTable['output_type'] = 'display_data';\n",
              "          await google.colab.output.renderOutput(dataTable, element);\n",
              "          const docLink = document.createElement('div');\n",
              "          docLink.innerHTML = docLinkHtml;\n",
              "          element.appendChild(docLink);\n",
              "        }\n",
              "      </script>\n",
              "    </div>\n",
              "  </div>\n",
              "  "
            ]
          },
          "metadata": {}
        },
        {
          "output_type": "stream",
          "name": "stdout",
          "text": [
            "\n",
            "=== Label ===\n"
          ]
        },
        {
          "output_type": "display_data",
          "data": {
            "text/plain": [
              "0    242.0\n",
              "1    290.0\n",
              "2    340.0\n",
              "Name: Weight, dtype: float64"
            ]
          },
          "metadata": {}
        },
        {
          "output_type": "stream",
          "name": "stdout",
          "text": [
            "\n",
            "=== Features ===\n"
          ]
        },
        {
          "output_type": "display_data",
          "data": {
            "text/plain": [
              "   Length1  Length2  Length3   Height   Width\n",
              "0     23.2     25.4     30.0  11.5200  4.0200\n",
              "1     24.0     26.3     31.2  12.4800  4.3056\n",
              "2     23.9     26.5     31.1  12.3778  4.6961"
            ],
            "text/html": [
              "\n",
              "  <div id=\"df-b04780fd-d39b-49ae-b895-3efbdf5d9289\">\n",
              "    <div class=\"colab-df-container\">\n",
              "      <div>\n",
              "<style scoped>\n",
              "    .dataframe tbody tr th:only-of-type {\n",
              "        vertical-align: middle;\n",
              "    }\n",
              "\n",
              "    .dataframe tbody tr th {\n",
              "        vertical-align: top;\n",
              "    }\n",
              "\n",
              "    .dataframe thead th {\n",
              "        text-align: right;\n",
              "    }\n",
              "</style>\n",
              "<table border=\"1\" class=\"dataframe\">\n",
              "  <thead>\n",
              "    <tr style=\"text-align: right;\">\n",
              "      <th></th>\n",
              "      <th>Length1</th>\n",
              "      <th>Length2</th>\n",
              "      <th>Length3</th>\n",
              "      <th>Height</th>\n",
              "      <th>Width</th>\n",
              "    </tr>\n",
              "  </thead>\n",
              "  <tbody>\n",
              "    <tr>\n",
              "      <th>0</th>\n",
              "      <td>23.2</td>\n",
              "      <td>25.4</td>\n",
              "      <td>30.0</td>\n",
              "      <td>11.5200</td>\n",
              "      <td>4.0200</td>\n",
              "    </tr>\n",
              "    <tr>\n",
              "      <th>1</th>\n",
              "      <td>24.0</td>\n",
              "      <td>26.3</td>\n",
              "      <td>31.2</td>\n",
              "      <td>12.4800</td>\n",
              "      <td>4.3056</td>\n",
              "    </tr>\n",
              "    <tr>\n",
              "      <th>2</th>\n",
              "      <td>23.9</td>\n",
              "      <td>26.5</td>\n",
              "      <td>31.1</td>\n",
              "      <td>12.3778</td>\n",
              "      <td>4.6961</td>\n",
              "    </tr>\n",
              "  </tbody>\n",
              "</table>\n",
              "</div>\n",
              "      <button class=\"colab-df-convert\" onclick=\"convertToInteractive('df-b04780fd-d39b-49ae-b895-3efbdf5d9289')\"\n",
              "              title=\"Convert this dataframe to an interactive table.\"\n",
              "              style=\"display:none;\">\n",
              "        \n",
              "  <svg xmlns=\"http://www.w3.org/2000/svg\" height=\"24px\"viewBox=\"0 0 24 24\"\n",
              "       width=\"24px\">\n",
              "    <path d=\"M0 0h24v24H0V0z\" fill=\"none\"/>\n",
              "    <path d=\"M18.56 5.44l.94 2.06.94-2.06 2.06-.94-2.06-.94-.94-2.06-.94 2.06-2.06.94zm-11 1L8.5 8.5l.94-2.06 2.06-.94-2.06-.94L8.5 2.5l-.94 2.06-2.06.94zm10 10l.94 2.06.94-2.06 2.06-.94-2.06-.94-.94-2.06-.94 2.06-2.06.94z\"/><path d=\"M17.41 7.96l-1.37-1.37c-.4-.4-.92-.59-1.43-.59-.52 0-1.04.2-1.43.59L10.3 9.45l-7.72 7.72c-.78.78-.78 2.05 0 2.83L4 21.41c.39.39.9.59 1.41.59.51 0 1.02-.2 1.41-.59l7.78-7.78 2.81-2.81c.8-.78.8-2.07 0-2.86zM5.41 20L4 18.59l7.72-7.72 1.47 1.35L5.41 20z\"/>\n",
              "  </svg>\n",
              "      </button>\n",
              "      \n",
              "  <style>\n",
              "    .colab-df-container {\n",
              "      display:flex;\n",
              "      flex-wrap:wrap;\n",
              "      gap: 12px;\n",
              "    }\n",
              "\n",
              "    .colab-df-convert {\n",
              "      background-color: #E8F0FE;\n",
              "      border: none;\n",
              "      border-radius: 50%;\n",
              "      cursor: pointer;\n",
              "      display: none;\n",
              "      fill: #1967D2;\n",
              "      height: 32px;\n",
              "      padding: 0 0 0 0;\n",
              "      width: 32px;\n",
              "    }\n",
              "\n",
              "    .colab-df-convert:hover {\n",
              "      background-color: #E2EBFA;\n",
              "      box-shadow: 0px 1px 2px rgba(60, 64, 67, 0.3), 0px 1px 3px 1px rgba(60, 64, 67, 0.15);\n",
              "      fill: #174EA6;\n",
              "    }\n",
              "\n",
              "    [theme=dark] .colab-df-convert {\n",
              "      background-color: #3B4455;\n",
              "      fill: #D2E3FC;\n",
              "    }\n",
              "\n",
              "    [theme=dark] .colab-df-convert:hover {\n",
              "      background-color: #434B5C;\n",
              "      box-shadow: 0px 1px 3px 1px rgba(0, 0, 0, 0.15);\n",
              "      filter: drop-shadow(0px 1px 2px rgba(0, 0, 0, 0.3));\n",
              "      fill: #FFFFFF;\n",
              "    }\n",
              "  </style>\n",
              "\n",
              "      <script>\n",
              "        const buttonEl =\n",
              "          document.querySelector('#df-b04780fd-d39b-49ae-b895-3efbdf5d9289 button.colab-df-convert');\n",
              "        buttonEl.style.display =\n",
              "          google.colab.kernel.accessAllowed ? 'block' : 'none';\n",
              "\n",
              "        async function convertToInteractive(key) {\n",
              "          const element = document.querySelector('#df-b04780fd-d39b-49ae-b895-3efbdf5d9289');\n",
              "          const dataTable =\n",
              "            await google.colab.kernel.invokeFunction('convertToInteractive',\n",
              "                                                     [key], {});\n",
              "          if (!dataTable) return;\n",
              "\n",
              "          const docLinkHtml = 'Like what you see? Visit the ' +\n",
              "            '<a target=\"_blank\" href=https://colab.research.google.com/notebooks/data_table.ipynb>data table notebook</a>'\n",
              "            + ' to learn more about interactive tables.';\n",
              "          element.innerHTML = '';\n",
              "          dataTable['output_type'] = 'display_data';\n",
              "          await google.colab.output.renderOutput(dataTable, element);\n",
              "          const docLink = document.createElement('div');\n",
              "          docLink.innerHTML = docLinkHtml;\n",
              "          element.appendChild(docLink);\n",
              "        }\n",
              "      </script>\n",
              "    </div>\n",
              "  </div>\n",
              "  "
            ]
          },
          "metadata": {}
        }
      ]
    },
    {
      "cell_type": "markdown",
      "source": [
        "Disini saya menggunakan metode encoding untuk merepresentasikan data bertipe kategori sebagai vektor biner yang bernilai integer, 0 dan 1, dimana semua elemen akan bernilai 0 kecuali satu elemen yang bernilai 1, yaitu elemen yang memiliki nilai kategori tersebut."
      ],
      "metadata": {
        "id": "o_shecknEGLC"
      }
    },
    {
      "cell_type": "code",
      "source": [
        "# Feature Scalling -> Robust Scaller\n",
        "from sklearn.preprocessing import RobustScaler, MinMaxScaler, StandardScaler\n",
        "rs_scaller = MinMaxScaler()\n",
        "columns_name = features.columns.values\n",
        "\n",
        "features = rs_scaller.fit_transform(features)\n",
        "features = pd.DataFrame(data=features, columns=columns_name)\n",
        "features.head()"
      ],
      "metadata": {
        "execution": {
          "iopub.status.busy": "2022-03-19T05:54:25.784655Z",
          "iopub.execute_input": "2022-03-19T05:54:25.785465Z",
          "iopub.status.idle": "2022-03-19T05:54:25.802244Z",
          "shell.execute_reply.started": "2022-03-19T05:54:25.785414Z",
          "shell.execute_reply": "2022-03-19T05:54:25.801516Z"
        },
        "trusted": true,
        "colab": {
          "base_uri": "https://localhost:8080/",
          "height": 206
        },
        "id": "ynJxjCteuy5p",
        "outputId": "d20971c4-0399-44b6-e0e5-68ee841434d7"
      },
      "execution_count": 76,
      "outputs": [
        {
          "output_type": "execute_result",
          "data": {
            "text/plain": [
              "    Length1   Length2   Length3    Height     Width\n",
              "0  0.343733  0.348004  0.381295  0.568334  0.418978\n",
              "1  0.361248  0.366428  0.402878  0.624055  0.459235\n",
              "2  0.359059  0.370522  0.401079  0.618123  0.514279\n",
              "3  0.411604  0.421699  0.444245  0.638566  0.480365\n",
              "4  0.415982  0.421699  0.453237  0.621966  0.576004"
            ],
            "text/html": [
              "\n",
              "  <div id=\"df-eb55f2d2-d3c7-4cf2-bd37-4eb082f04d15\">\n",
              "    <div class=\"colab-df-container\">\n",
              "      <div>\n",
              "<style scoped>\n",
              "    .dataframe tbody tr th:only-of-type {\n",
              "        vertical-align: middle;\n",
              "    }\n",
              "\n",
              "    .dataframe tbody tr th {\n",
              "        vertical-align: top;\n",
              "    }\n",
              "\n",
              "    .dataframe thead th {\n",
              "        text-align: right;\n",
              "    }\n",
              "</style>\n",
              "<table border=\"1\" class=\"dataframe\">\n",
              "  <thead>\n",
              "    <tr style=\"text-align: right;\">\n",
              "      <th></th>\n",
              "      <th>Length1</th>\n",
              "      <th>Length2</th>\n",
              "      <th>Length3</th>\n",
              "      <th>Height</th>\n",
              "      <th>Width</th>\n",
              "    </tr>\n",
              "  </thead>\n",
              "  <tbody>\n",
              "    <tr>\n",
              "      <th>0</th>\n",
              "      <td>0.343733</td>\n",
              "      <td>0.348004</td>\n",
              "      <td>0.381295</td>\n",
              "      <td>0.568334</td>\n",
              "      <td>0.418978</td>\n",
              "    </tr>\n",
              "    <tr>\n",
              "      <th>1</th>\n",
              "      <td>0.361248</td>\n",
              "      <td>0.366428</td>\n",
              "      <td>0.402878</td>\n",
              "      <td>0.624055</td>\n",
              "      <td>0.459235</td>\n",
              "    </tr>\n",
              "    <tr>\n",
              "      <th>2</th>\n",
              "      <td>0.359059</td>\n",
              "      <td>0.370522</td>\n",
              "      <td>0.401079</td>\n",
              "      <td>0.618123</td>\n",
              "      <td>0.514279</td>\n",
              "    </tr>\n",
              "    <tr>\n",
              "      <th>3</th>\n",
              "      <td>0.411604</td>\n",
              "      <td>0.421699</td>\n",
              "      <td>0.444245</td>\n",
              "      <td>0.638566</td>\n",
              "      <td>0.480365</td>\n",
              "    </tr>\n",
              "    <tr>\n",
              "      <th>4</th>\n",
              "      <td>0.415982</td>\n",
              "      <td>0.421699</td>\n",
              "      <td>0.453237</td>\n",
              "      <td>0.621966</td>\n",
              "      <td>0.576004</td>\n",
              "    </tr>\n",
              "  </tbody>\n",
              "</table>\n",
              "</div>\n",
              "      <button class=\"colab-df-convert\" onclick=\"convertToInteractive('df-eb55f2d2-d3c7-4cf2-bd37-4eb082f04d15')\"\n",
              "              title=\"Convert this dataframe to an interactive table.\"\n",
              "              style=\"display:none;\">\n",
              "        \n",
              "  <svg xmlns=\"http://www.w3.org/2000/svg\" height=\"24px\"viewBox=\"0 0 24 24\"\n",
              "       width=\"24px\">\n",
              "    <path d=\"M0 0h24v24H0V0z\" fill=\"none\"/>\n",
              "    <path d=\"M18.56 5.44l.94 2.06.94-2.06 2.06-.94-2.06-.94-.94-2.06-.94 2.06-2.06.94zm-11 1L8.5 8.5l.94-2.06 2.06-.94-2.06-.94L8.5 2.5l-.94 2.06-2.06.94zm10 10l.94 2.06.94-2.06 2.06-.94-2.06-.94-.94-2.06-.94 2.06-2.06.94z\"/><path d=\"M17.41 7.96l-1.37-1.37c-.4-.4-.92-.59-1.43-.59-.52 0-1.04.2-1.43.59L10.3 9.45l-7.72 7.72c-.78.78-.78 2.05 0 2.83L4 21.41c.39.39.9.59 1.41.59.51 0 1.02-.2 1.41-.59l7.78-7.78 2.81-2.81c.8-.78.8-2.07 0-2.86zM5.41 20L4 18.59l7.72-7.72 1.47 1.35L5.41 20z\"/>\n",
              "  </svg>\n",
              "      </button>\n",
              "      \n",
              "  <style>\n",
              "    .colab-df-container {\n",
              "      display:flex;\n",
              "      flex-wrap:wrap;\n",
              "      gap: 12px;\n",
              "    }\n",
              "\n",
              "    .colab-df-convert {\n",
              "      background-color: #E8F0FE;\n",
              "      border: none;\n",
              "      border-radius: 50%;\n",
              "      cursor: pointer;\n",
              "      display: none;\n",
              "      fill: #1967D2;\n",
              "      height: 32px;\n",
              "      padding: 0 0 0 0;\n",
              "      width: 32px;\n",
              "    }\n",
              "\n",
              "    .colab-df-convert:hover {\n",
              "      background-color: #E2EBFA;\n",
              "      box-shadow: 0px 1px 2px rgba(60, 64, 67, 0.3), 0px 1px 3px 1px rgba(60, 64, 67, 0.15);\n",
              "      fill: #174EA6;\n",
              "    }\n",
              "\n",
              "    [theme=dark] .colab-df-convert {\n",
              "      background-color: #3B4455;\n",
              "      fill: #D2E3FC;\n",
              "    }\n",
              "\n",
              "    [theme=dark] .colab-df-convert:hover {\n",
              "      background-color: #434B5C;\n",
              "      box-shadow: 0px 1px 3px 1px rgba(0, 0, 0, 0.15);\n",
              "      filter: drop-shadow(0px 1px 2px rgba(0, 0, 0, 0.3));\n",
              "      fill: #FFFFFF;\n",
              "    }\n",
              "  </style>\n",
              "\n",
              "      <script>\n",
              "        const buttonEl =\n",
              "          document.querySelector('#df-eb55f2d2-d3c7-4cf2-bd37-4eb082f04d15 button.colab-df-convert');\n",
              "        buttonEl.style.display =\n",
              "          google.colab.kernel.accessAllowed ? 'block' : 'none';\n",
              "\n",
              "        async function convertToInteractive(key) {\n",
              "          const element = document.querySelector('#df-eb55f2d2-d3c7-4cf2-bd37-4eb082f04d15');\n",
              "          const dataTable =\n",
              "            await google.colab.kernel.invokeFunction('convertToInteractive',\n",
              "                                                     [key], {});\n",
              "          if (!dataTable) return;\n",
              "\n",
              "          const docLinkHtml = 'Like what you see? Visit the ' +\n",
              "            '<a target=\"_blank\" href=https://colab.research.google.com/notebooks/data_table.ipynb>data table notebook</a>'\n",
              "            + ' to learn more about interactive tables.';\n",
              "          element.innerHTML = '';\n",
              "          dataTable['output_type'] = 'display_data';\n",
              "          await google.colab.output.renderOutput(dataTable, element);\n",
              "          const docLink = document.createElement('div');\n",
              "          docLink.innerHTML = docLinkHtml;\n",
              "          element.appendChild(docLink);\n",
              "        }\n",
              "      </script>\n",
              "    </div>\n",
              "  </div>\n",
              "  "
            ]
          },
          "metadata": {},
          "execution_count": 76
        }
      ]
    },
    {
      "cell_type": "markdown",
      "source": [
        "Kode diatas merupakan fungsi scalling dengan menggunakan metode robust scaler. Fungsi dari scalling ini untuk mengurangi range value biar output data nya tidak terlalu jauh. Disini saya mencoba menggunakan metode Robust Scaler karena metode ini tidak terpengaruh oleh outlier. Namun jika tidak terdapat outlier dapat menggunakan metode MinMax dan StandardScaler"
      ],
      "metadata": {
        "id": "2RKbNaqMESPR"
      }
    },
    {
      "cell_type": "code",
      "source": [
        "X = pd.merge(features, species_encoded, left_index=True, right_index=True)\n",
        "X.head(10)"
      ],
      "metadata": {
        "execution": {
          "iopub.status.busy": "2022-03-19T05:56:02.628871Z",
          "iopub.execute_input": "2022-03-19T05:56:02.629133Z",
          "iopub.status.idle": "2022-03-19T05:56:02.643254Z",
          "shell.execute_reply.started": "2022-03-19T05:56:02.629106Z",
          "shell.execute_reply": "2022-03-19T05:56:02.642288Z"
        },
        "trusted": true,
        "colab": {
          "base_uri": "https://localhost:8080/",
          "height": 362
        },
        "id": "yiil-7Xxuy5q",
        "outputId": "bb5af914-6cbc-4633-8c25-d5668a838af9"
      },
      "execution_count": 77,
      "outputs": [
        {
          "output_type": "execute_result",
          "data": {
            "text/plain": [
              "    Length1   Length2   Length3    Height     Width  Bream  Parkki  Perch  \\\n",
              "0  0.343733  0.348004  0.381295  0.568334  0.418978      1       0      0   \n",
              "1  0.361248  0.366428  0.402878  0.624055  0.459235      1       0      0   \n",
              "2  0.359059  0.370522  0.401079  0.618123  0.514279      1       0      0   \n",
              "3  0.411604  0.421699  0.444245  0.638566  0.480365      1       0      0   \n",
              "4  0.415982  0.421699  0.453237  0.621966  0.576004      1       0      0   \n",
              "5  0.422551  0.436029  0.465827  0.689203  0.546882      1       0      0   \n",
              "6  0.422551  0.436029  0.462230  0.722699  0.596372      1       0      0   \n",
              "7  0.440066  0.442170  0.471223  0.635084  0.513419      1       0      0   \n",
              "8  0.440066  0.442170  0.473022  0.712565  0.535098      1       0      0   \n",
              "9  0.459770  0.456499  0.492806  0.725433  0.551393      1       0      0   \n",
              "\n",
              "   Pike  Roach  Smelt  Whitefish  \n",
              "0     0      0      0          0  \n",
              "1     0      0      0          0  \n",
              "2     0      0      0          0  \n",
              "3     0      0      0          0  \n",
              "4     0      0      0          0  \n",
              "5     0      0      0          0  \n",
              "6     0      0      0          0  \n",
              "7     0      0      0          0  \n",
              "8     0      0      0          0  \n",
              "9     0      0      0          0  "
            ],
            "text/html": [
              "\n",
              "  <div id=\"df-542af56e-538f-43de-83ae-79e3c1a0c2ad\">\n",
              "    <div class=\"colab-df-container\">\n",
              "      <div>\n",
              "<style scoped>\n",
              "    .dataframe tbody tr th:only-of-type {\n",
              "        vertical-align: middle;\n",
              "    }\n",
              "\n",
              "    .dataframe tbody tr th {\n",
              "        vertical-align: top;\n",
              "    }\n",
              "\n",
              "    .dataframe thead th {\n",
              "        text-align: right;\n",
              "    }\n",
              "</style>\n",
              "<table border=\"1\" class=\"dataframe\">\n",
              "  <thead>\n",
              "    <tr style=\"text-align: right;\">\n",
              "      <th></th>\n",
              "      <th>Length1</th>\n",
              "      <th>Length2</th>\n",
              "      <th>Length3</th>\n",
              "      <th>Height</th>\n",
              "      <th>Width</th>\n",
              "      <th>Bream</th>\n",
              "      <th>Parkki</th>\n",
              "      <th>Perch</th>\n",
              "      <th>Pike</th>\n",
              "      <th>Roach</th>\n",
              "      <th>Smelt</th>\n",
              "      <th>Whitefish</th>\n",
              "    </tr>\n",
              "  </thead>\n",
              "  <tbody>\n",
              "    <tr>\n",
              "      <th>0</th>\n",
              "      <td>0.343733</td>\n",
              "      <td>0.348004</td>\n",
              "      <td>0.381295</td>\n",
              "      <td>0.568334</td>\n",
              "      <td>0.418978</td>\n",
              "      <td>1</td>\n",
              "      <td>0</td>\n",
              "      <td>0</td>\n",
              "      <td>0</td>\n",
              "      <td>0</td>\n",
              "      <td>0</td>\n",
              "      <td>0</td>\n",
              "    </tr>\n",
              "    <tr>\n",
              "      <th>1</th>\n",
              "      <td>0.361248</td>\n",
              "      <td>0.366428</td>\n",
              "      <td>0.402878</td>\n",
              "      <td>0.624055</td>\n",
              "      <td>0.459235</td>\n",
              "      <td>1</td>\n",
              "      <td>0</td>\n",
              "      <td>0</td>\n",
              "      <td>0</td>\n",
              "      <td>0</td>\n",
              "      <td>0</td>\n",
              "      <td>0</td>\n",
              "    </tr>\n",
              "    <tr>\n",
              "      <th>2</th>\n",
              "      <td>0.359059</td>\n",
              "      <td>0.370522</td>\n",
              "      <td>0.401079</td>\n",
              "      <td>0.618123</td>\n",
              "      <td>0.514279</td>\n",
              "      <td>1</td>\n",
              "      <td>0</td>\n",
              "      <td>0</td>\n",
              "      <td>0</td>\n",
              "      <td>0</td>\n",
              "      <td>0</td>\n",
              "      <td>0</td>\n",
              "    </tr>\n",
              "    <tr>\n",
              "      <th>3</th>\n",
              "      <td>0.411604</td>\n",
              "      <td>0.421699</td>\n",
              "      <td>0.444245</td>\n",
              "      <td>0.638566</td>\n",
              "      <td>0.480365</td>\n",
              "      <td>1</td>\n",
              "      <td>0</td>\n",
              "      <td>0</td>\n",
              "      <td>0</td>\n",
              "      <td>0</td>\n",
              "      <td>0</td>\n",
              "      <td>0</td>\n",
              "    </tr>\n",
              "    <tr>\n",
              "      <th>4</th>\n",
              "      <td>0.415982</td>\n",
              "      <td>0.421699</td>\n",
              "      <td>0.453237</td>\n",
              "      <td>0.621966</td>\n",
              "      <td>0.576004</td>\n",
              "      <td>1</td>\n",
              "      <td>0</td>\n",
              "      <td>0</td>\n",
              "      <td>0</td>\n",
              "      <td>0</td>\n",
              "      <td>0</td>\n",
              "      <td>0</td>\n",
              "    </tr>\n",
              "    <tr>\n",
              "      <th>5</th>\n",
              "      <td>0.422551</td>\n",
              "      <td>0.436029</td>\n",
              "      <td>0.465827</td>\n",
              "      <td>0.689203</td>\n",
              "      <td>0.546882</td>\n",
              "      <td>1</td>\n",
              "      <td>0</td>\n",
              "      <td>0</td>\n",
              "      <td>0</td>\n",
              "      <td>0</td>\n",
              "      <td>0</td>\n",
              "      <td>0</td>\n",
              "    </tr>\n",
              "    <tr>\n",
              "      <th>6</th>\n",
              "      <td>0.422551</td>\n",
              "      <td>0.436029</td>\n",
              "      <td>0.462230</td>\n",
              "      <td>0.722699</td>\n",
              "      <td>0.596372</td>\n",
              "      <td>1</td>\n",
              "      <td>0</td>\n",
              "      <td>0</td>\n",
              "      <td>0</td>\n",
              "      <td>0</td>\n",
              "      <td>0</td>\n",
              "      <td>0</td>\n",
              "    </tr>\n",
              "    <tr>\n",
              "      <th>7</th>\n",
              "      <td>0.440066</td>\n",
              "      <td>0.442170</td>\n",
              "      <td>0.471223</td>\n",
              "      <td>0.635084</td>\n",
              "      <td>0.513419</td>\n",
              "      <td>1</td>\n",
              "      <td>0</td>\n",
              "      <td>0</td>\n",
              "      <td>0</td>\n",
              "      <td>0</td>\n",
              "      <td>0</td>\n",
              "      <td>0</td>\n",
              "    </tr>\n",
              "    <tr>\n",
              "      <th>8</th>\n",
              "      <td>0.440066</td>\n",
              "      <td>0.442170</td>\n",
              "      <td>0.473022</td>\n",
              "      <td>0.712565</td>\n",
              "      <td>0.535098</td>\n",
              "      <td>1</td>\n",
              "      <td>0</td>\n",
              "      <td>0</td>\n",
              "      <td>0</td>\n",
              "      <td>0</td>\n",
              "      <td>0</td>\n",
              "      <td>0</td>\n",
              "    </tr>\n",
              "    <tr>\n",
              "      <th>9</th>\n",
              "      <td>0.459770</td>\n",
              "      <td>0.456499</td>\n",
              "      <td>0.492806</td>\n",
              "      <td>0.725433</td>\n",
              "      <td>0.551393</td>\n",
              "      <td>1</td>\n",
              "      <td>0</td>\n",
              "      <td>0</td>\n",
              "      <td>0</td>\n",
              "      <td>0</td>\n",
              "      <td>0</td>\n",
              "      <td>0</td>\n",
              "    </tr>\n",
              "  </tbody>\n",
              "</table>\n",
              "</div>\n",
              "      <button class=\"colab-df-convert\" onclick=\"convertToInteractive('df-542af56e-538f-43de-83ae-79e3c1a0c2ad')\"\n",
              "              title=\"Convert this dataframe to an interactive table.\"\n",
              "              style=\"display:none;\">\n",
              "        \n",
              "  <svg xmlns=\"http://www.w3.org/2000/svg\" height=\"24px\"viewBox=\"0 0 24 24\"\n",
              "       width=\"24px\">\n",
              "    <path d=\"M0 0h24v24H0V0z\" fill=\"none\"/>\n",
              "    <path d=\"M18.56 5.44l.94 2.06.94-2.06 2.06-.94-2.06-.94-.94-2.06-.94 2.06-2.06.94zm-11 1L8.5 8.5l.94-2.06 2.06-.94-2.06-.94L8.5 2.5l-.94 2.06-2.06.94zm10 10l.94 2.06.94-2.06 2.06-.94-2.06-.94-.94-2.06-.94 2.06-2.06.94z\"/><path d=\"M17.41 7.96l-1.37-1.37c-.4-.4-.92-.59-1.43-.59-.52 0-1.04.2-1.43.59L10.3 9.45l-7.72 7.72c-.78.78-.78 2.05 0 2.83L4 21.41c.39.39.9.59 1.41.59.51 0 1.02-.2 1.41-.59l7.78-7.78 2.81-2.81c.8-.78.8-2.07 0-2.86zM5.41 20L4 18.59l7.72-7.72 1.47 1.35L5.41 20z\"/>\n",
              "  </svg>\n",
              "      </button>\n",
              "      \n",
              "  <style>\n",
              "    .colab-df-container {\n",
              "      display:flex;\n",
              "      flex-wrap:wrap;\n",
              "      gap: 12px;\n",
              "    }\n",
              "\n",
              "    .colab-df-convert {\n",
              "      background-color: #E8F0FE;\n",
              "      border: none;\n",
              "      border-radius: 50%;\n",
              "      cursor: pointer;\n",
              "      display: none;\n",
              "      fill: #1967D2;\n",
              "      height: 32px;\n",
              "      padding: 0 0 0 0;\n",
              "      width: 32px;\n",
              "    }\n",
              "\n",
              "    .colab-df-convert:hover {\n",
              "      background-color: #E2EBFA;\n",
              "      box-shadow: 0px 1px 2px rgba(60, 64, 67, 0.3), 0px 1px 3px 1px rgba(60, 64, 67, 0.15);\n",
              "      fill: #174EA6;\n",
              "    }\n",
              "\n",
              "    [theme=dark] .colab-df-convert {\n",
              "      background-color: #3B4455;\n",
              "      fill: #D2E3FC;\n",
              "    }\n",
              "\n",
              "    [theme=dark] .colab-df-convert:hover {\n",
              "      background-color: #434B5C;\n",
              "      box-shadow: 0px 1px 3px 1px rgba(0, 0, 0, 0.15);\n",
              "      filter: drop-shadow(0px 1px 2px rgba(0, 0, 0, 0.3));\n",
              "      fill: #FFFFFF;\n",
              "    }\n",
              "  </style>\n",
              "\n",
              "      <script>\n",
              "        const buttonEl =\n",
              "          document.querySelector('#df-542af56e-538f-43de-83ae-79e3c1a0c2ad button.colab-df-convert');\n",
              "        buttonEl.style.display =\n",
              "          google.colab.kernel.accessAllowed ? 'block' : 'none';\n",
              "\n",
              "        async function convertToInteractive(key) {\n",
              "          const element = document.querySelector('#df-542af56e-538f-43de-83ae-79e3c1a0c2ad');\n",
              "          const dataTable =\n",
              "            await google.colab.kernel.invokeFunction('convertToInteractive',\n",
              "                                                     [key], {});\n",
              "          if (!dataTable) return;\n",
              "\n",
              "          const docLinkHtml = 'Like what you see? Visit the ' +\n",
              "            '<a target=\"_blank\" href=https://colab.research.google.com/notebooks/data_table.ipynb>data table notebook</a>'\n",
              "            + ' to learn more about interactive tables.';\n",
              "          element.innerHTML = '';\n",
              "          dataTable['output_type'] = 'display_data';\n",
              "          await google.colab.output.renderOutput(dataTable, element);\n",
              "          const docLink = document.createElement('div');\n",
              "          docLink.innerHTML = docLinkHtml;\n",
              "          element.appendChild(docLink);\n",
              "        }\n",
              "      </script>\n",
              "    </div>\n",
              "  </div>\n",
              "  "
            ]
          },
          "metadata": {},
          "execution_count": 77
        }
      ]
    },
    {
      "cell_type": "markdown",
      "source": [
        "Berikut adalah tampilan dari dataset saya setelah di scalling dan di encoding"
      ],
      "metadata": {
        "id": "p1UtQeYgF_W0"
      }
    },
    {
      "cell_type": "code",
      "source": [
        "# Dependant (Target) Variable:\n",
        "y = df['Weight']\n",
        "# Independant Variables:\n",
        "X = df.iloc[:,2:7]\n",
        "# X=df.drop['Weight','Species']"
      ],
      "metadata": {
        "id": "CaHX4zUEHw4q"
      },
      "execution_count": 78,
      "outputs": []
    },
    {
      "cell_type": "markdown",
      "source": [
        "Disini saya akan menyiapkan model machine learing"
      ],
      "metadata": {
        "id": "gX_sStOlNne6"
      }
    },
    {
      "cell_type": "code",
      "source": [
        "from sklearn.model_selection import train_test_split\n",
        "X_train, X_test, y_train, y_test = train_test_split(X, y, test_size=0.2, random_state=1)"
      ],
      "metadata": {
        "id": "DV54h6HIH1Iz"
      },
      "execution_count": 79,
      "outputs": []
    },
    {
      "cell_type": "markdown",
      "source": [
        "Kode diatas digunakan untuk membagi dataset menjadi \"Train\" dan \"Test\" Dataset"
      ],
      "metadata": {
        "id": "-HpRB4dgNdDi"
      }
    },
    {
      "cell_type": "code",
      "source": [
        "y"
      ],
      "metadata": {
        "colab": {
          "base_uri": "https://localhost:8080/"
        },
        "id": "c25Q7RtzH3lP",
        "outputId": "8b032abe-5e53-45e1-be3e-7cb1eb4731a5"
      },
      "execution_count": 80,
      "outputs": [
        {
          "output_type": "execute_result",
          "data": {
            "text/plain": [
              "0      242.0\n",
              "1      290.0\n",
              "2      340.0\n",
              "3      363.0\n",
              "4      430.0\n",
              "       ...  \n",
              "154     12.2\n",
              "155     13.4\n",
              "156     12.2\n",
              "157     19.7\n",
              "158     19.9\n",
              "Name: Weight, Length: 159, dtype: float64"
            ]
          },
          "metadata": {},
          "execution_count": 80
        }
      ]
    },
    {
      "cell_type": "code",
      "source": [
        "reg = LinearRegression()\n",
        "reg.fit(X_train,y_train)"
      ],
      "metadata": {
        "colab": {
          "base_uri": "https://localhost:8080/"
        },
        "id": "cbaEn1gDH5FC",
        "outputId": "12d90ab6-539c-4bb9-bd0b-547876731dab"
      },
      "execution_count": 81,
      "outputs": [
        {
          "output_type": "execute_result",
          "data": {
            "text/plain": [
              "LinearRegression()"
            ]
          },
          "metadata": {},
          "execution_count": 81
        }
      ]
    },
    {
      "cell_type": "markdown",
      "source": [
        "Kode diatas merupakan Sklearn Library Linear Regression Model"
      ],
      "metadata": {
        "id": "9MvxsZxFN0ML"
      }
    },
    {
      "cell_type": "code",
      "source": [
        "y_pred = reg.predict(X_test)"
      ],
      "metadata": {
        "id": "xqHwuhGBH7hO"
      },
      "execution_count": 82,
      "outputs": []
    },
    {
      "cell_type": "markdown",
      "source": [
        "Disini saya menggunakan model Train dan Test Dataset untuk memperkirakan berat ikan "
      ],
      "metadata": {
        "id": "tz8hGZTzOKwd"
      }
    },
    {
      "cell_type": "code",
      "source": [
        "reg.score(X_test, y_test)"
      ],
      "metadata": {
        "colab": {
          "base_uri": "https://localhost:8080/"
        },
        "id": "kyYFhZ83JUfs",
        "outputId": "700d9280-d0e4-4df8-f4e7-57a5f9f02b05"
      },
      "execution_count": 83,
      "outputs": [
        {
          "output_type": "execute_result",
          "data": {
            "text/plain": [
              "0.8671328429734948"
            ]
          },
          "metadata": {},
          "execution_count": 83
        }
      ]
    },
    {
      "cell_type": "markdown",
      "source": [
        "Disini saya Menganalisis Keberhasilan Model Train dari Dataset test dan Prediksi"
      ],
      "metadata": {
        "id": "QDwTtnxZO0KG"
      }
    },
    {
      "cell_type": "code",
      "source": [
        "plt.scatter(X_test['Length1'], y_test, color='red', alpha=0.4)\n",
        "plt.scatter(X_test['Length1'], y_pred, color='blue', alpha=0.4)\n",
        "plt.xlabel('Cross Length in cm')\n",
        "plt.ylabel('Weight of the fish')\n",
        "plt.title('Linear Regression Model for Weight Estimation');"
      ],
      "metadata": {
        "colab": {
          "base_uri": "https://localhost:8080/",
          "height": 295
        },
        "id": "RGK15FKaJWvY",
        "outputId": "0abbd50f-36df-49d2-ac6f-5ce3e7f8a1e9"
      },
      "execution_count": 84,
      "outputs": [
        {
          "output_type": "display_data",
          "data": {
            "text/plain": [
              "<Figure size 432x288 with 1 Axes>"
            ],
            "image/png": "[encoded data removed]"
          },
          "metadata": {
            "needs_background": "light"
          }
        }
      ]
    },
    {
      "cell_type": "code",
      "source": [
        "plt.scatter(X_test['Width'], y_test, color='gray', alpha=0.5)\n",
        "plt.scatter(X_test['Width'], y_pred, color='red', alpha=0.5)\n",
        "plt.xlabel('Width in cm')\n",
        "plt.ylabel('Weight of the fish')\n",
        "plt.title('Linear Regression Model for Weight Estimation');"
      ],
      "metadata": {
        "colab": {
          "base_uri": "https://localhost:8080/",
          "height": 295
        },
        "id": "abiCvJGOMmDw",
        "outputId": "473addf8-762e-4467-ecd4-ca0c967e9f78"
      },
      "execution_count": 85,
      "outputs": [
        {
          "output_type": "display_data",
          "data": {
            "text/plain": [
              "<Figure size 432x288 with 1 Axes>"
            ],
            "image/png": "[encoded data removed]"
          },
          "metadata": {
            "needs_background": "light"
          }
        }
      ]
    },
    {
      "cell_type": "markdown",
      "source": [
        "# 5. LOGISTIC REGRESSION\n",
        "Saya akan menggunakan Regresi Logistik untuk klasifikasi, dan selanjutnya memprediksi jenis ikan berdasarkan berat, tinggi dan lebarnya.\n"
      ],
      "metadata": {
        "id": "lHXfBY7h9kaT"
      }
    },
    {
      "cell_type": "code",
      "source": [
        "from sklearn.model_selection import train_test_split\n",
        "from sklearn.linear_model import LogisticRegression\n",
        "import plotly.express as px"
      ],
      "metadata": {
        "id": "gP5I7j1quy5u"
      },
      "execution_count": 88,
      "outputs": []
    },
    {
      "cell_type": "code",
      "source": [
        "px.scatter(df,x='Height',y='Length1',size='Weight',color='Species')"
      ],
      "metadata": {
        "colab": {
          "base_uri": "https://localhost:8080/",
          "height": 542
        },
        "id": "fZf9dPxpHgpr",
        "outputId": "d90f9253-a712-4707-83ae-d8156ec998b6"
      },
      "execution_count": 89,
      "outputs": [
        {
          "output_type": "display_data",
          "data": {
            "text/html": [
              "<html>\n",
              "<head><meta charset=\"utf-8\" /></head>\n",
              "<body>\n",
              "    <div>            <script src=\"https://cdnjs.cloudflare.com/ajax/libs/mathjax/2.7.5/MathJax.js?config=TeX-AMS-MML_SVG\"></script><script type=\"text/javascript\">if (window.MathJax) {MathJax.Hub.Config({SVG: {font: \"STIX-Web\"}});}</script>                <script type=\"text/javascript\">window.PlotlyConfig = {MathJaxConfig: 'local'};</script>\n",
              "        <script src=\"https://cdn.plot.ly/plotly-2.8.3.min.js\"></script>                <div id=\"8a2153c2-1341-4e50-9e09-4d7d95253f1c\" class=\"plotly-graph-div\" style=\"height:525px; width:100%;\"></div>            <script type=\"text/javascript\">                                    window.PLOTLYENV=window.PLOTLYENV || {};                                    if (document.getElementById(\"8a2153c2-1341-4e50-9e09-4d7d95253f1c\")) {                    Plotly.newPlot(                        \"8a2153c2-1341-4e50-9e09-4d7d95253f1c\",                        [{\"hovertemplate\":\"Species=Bream<br>Height=%{x}<br>Length1=%{y}<br>Weight=%{marker.size}<extra></extra>\",\"legendgroup\":\"Bream\",\"marker\":{\"color\":\"#636efa\",\"size\":[242.0,290.0,340.0,363.0,430.0,450.0,500.0,390.0,450.0,500.0,475.0,500.0,500.0,340.0,600.0,600.0,700.0,700.0,610.0,650.0,575.0,685.0,620.0,680.0,700.0,725.0,720.0,714.0,850.0,1000.0,920.0,955.0,925.0,975.0,950.0],\"sizemode\":\"area\",\"sizeref\":3.6125,\"symbol\":\"circle\"},\"mode\":\"markers\",\"name\":\"Bream\",\"orientation\":\"v\",\"showlegend\":true,\"x\":[11.52,12.48,12.3778,12.73,12.444,13.6024,14.1795,12.67,14.0049,14.2266,14.2628,14.3714,13.7592,13.9129,14.9544,15.438,14.8604,14.938,15.633,14.4738,15.1285,15.9936,15.5227,15.4686,16.2405,16.36,16.3618,16.517,16.8896,18.957,18.0369,18.084,18.7542,18.6354,17.6235],\"xaxis\":\"x\",\"y\":[23.2,24.0,23.9,26.3,26.5,26.8,26.8,27.6,27.6,28.5,28.4,28.7,29.1,29.5,29.4,29.4,30.4,30.4,30.9,31.0,31.3,31.4,31.5,31.8,31.9,31.8,32.0,32.7,32.8,33.5,35.0,35.0,36.2,37.4,38.0],\"yaxis\":\"y\",\"type\":\"scatter\"},{\"hovertemplate\":\"Species=Roach<br>Height=%{x}<br>Length1=%{y}<br>Weight=%{marker.size}<extra></extra>\",\"legendgroup\":\"Roach\",\"marker\":{\"color\":\"#EF553B\",\"size\":[40.0,69.0,78.0,87.0,120.0,0.0,110.0,120.0,150.0,145.0,160.0,140.0,160.0,169.0,161.0,200.0,180.0,290.0,272.0,390.0],\"sizemode\":\"area\",\"sizeref\":3.6125,\"symbol\":\"circle\"},\"mode\":\"markers\",\"name\":\"Roach\",\"orientation\":\"v\",\"showlegend\":true,\"x\":[4.1472,5.2983,5.5756,5.6166,6.216,6.4752,6.1677,6.1146,5.8045,6.6339,7.0334,6.55,6.4,7.5344,6.9153,7.3968,7.0866,8.8768,8.568,9.485],\"xaxis\":\"x\",\"y\":[12.9,16.5,17.5,18.2,18.6,19.0,19.1,19.4,20.4,20.5,20.5,21.0,21.1,22.0,22.0,22.1,23.6,24.0,25.0,29.5],\"yaxis\":\"y\",\"type\":\"scatter\"},{\"hovertemplate\":\"Species=Whitefish<br>Height=%{x}<br>Length1=%{y}<br>Weight=%{marker.size}<extra></extra>\",\"legendgroup\":\"Whitefish\",\"marker\":{\"color\":\"#00cc96\",\"size\":[270.0,270.0,306.0,540.0,800.0,1000.0],\"sizemode\":\"area\",\"sizeref\":3.6125,\"symbol\":\"circle\"},\"mode\":\"markers\",\"name\":\"Whitefish\",\"orientation\":\"v\",\"showlegend\":true,\"x\":[8.3804,8.1454,8.778,10.744,11.7612,12.354],\"xaxis\":\"x\",\"y\":[23.6,24.1,25.6,28.5,33.7,37.3],\"yaxis\":\"y\",\"type\":\"scatter\"},{\"hovertemplate\":\"Species=Parkki<br>Height=%{x}<br>Length1=%{y}<br>Weight=%{marker.size}<extra></extra>\",\"legendgroup\":\"Parkki\",\"marker\":{\"color\":\"#ab63fa\",\"size\":[55.0,60.0,90.0,120.0,150.0,140.0,170.0,145.0,200.0,273.0,300.0],\"sizemode\":\"area\",\"sizeref\":3.6125,\"symbol\":\"circle\"},\"mode\":\"markers\",\"name\":\"Parkki\",\"orientation\":\"v\",\"showlegend\":true,\"x\":[6.8475,6.5772,7.4052,8.3922,8.8928,8.5376,9.396,9.7364,10.3458,11.088,11.368],\"xaxis\":\"x\",\"y\":[13.5,14.3,16.3,17.5,18.4,19.0,19.0,19.8,21.2,23.0,24.0],\"yaxis\":\"y\",\"type\":\"scatter\"},{\"hovertemplate\":\"Species=Perch<br>Height=%{x}<br>Length1=%{y}<br>Weight=%{marker.size}<extra></extra>\",\"legendgroup\":\"Perch\",\"marker\":{\"color\":\"#FFA15A\",\"size\":[5.9,32.0,40.0,51.5,70.0,100.0,78.0,80.0,85.0,85.0,110.0,115.0,125.0,130.0,120.0,120.0,130.0,135.0,110.0,130.0,150.0,145.0,150.0,170.0,225.0,145.0,188.0,180.0,197.0,218.0,300.0,260.0,265.0,250.0,250.0,300.0,320.0,514.0,556.0,840.0,685.0,700.0,700.0,690.0,900.0,650.0,820.0,850.0,900.0,1015.0,820.0,1100.0,1000.0,1100.0,1000.0,1000.0],\"sizemode\":\"area\",\"sizeref\":3.6125,\"symbol\":\"circle\"},\"mode\":\"markers\",\"name\":\"Perch\",\"orientation\":\"v\",\"showlegend\":true,\"x\":[2.112,3.528,3.824,4.5924,4.588,5.2224,5.1992,5.6358,5.1376,5.082,5.6925,5.9175,5.6925,6.384,6.11,5.64,6.11,5.875,5.5225,5.856,6.792,5.9532,5.2185,6.275,7.293,6.375,6.7334,6.4395,6.561,7.168,8.323,7.1672,7.0516,7.2828,7.8204,7.5852,7.6156,10.03,10.2565,11.4884,10.881,10.6091,10.835,10.5717,11.1366,11.1366,12.4313,11.9286,11.73,12.3808,11.135,12.8002,11.9328,12.5125,12.604,12.4888],\"xaxis\":\"x\",\"y\":[7.5,12.5,13.8,15.0,15.7,16.2,16.8,17.2,17.8,18.2,19.0,19.0,19.0,19.3,20.0,20.0,20.0,20.0,20.0,20.5,20.5,20.7,21.0,21.5,22.0,22.0,22.6,23.0,23.5,25.0,25.2,25.4,25.4,25.4,25.9,26.9,27.8,30.5,32.0,32.5,34.0,34.0,34.5,34.6,36.5,36.5,36.6,36.9,37.0,37.0,37.1,39.0,39.8,40.1,40.2,41.1],\"yaxis\":\"y\",\"type\":\"scatter\"},{\"hovertemplate\":\"Species=Pike<br>Height=%{x}<br>Length1=%{y}<br>Weight=%{marker.size}<extra></extra>\",\"legendgroup\":\"Pike\",\"marker\":{\"color\":\"#19d3f3\",\"size\":[200.0,300.0,300.0,300.0,430.0,345.0,456.0,510.0,540.0,500.0,567.0,770.0,950.0,1250.0,1445.0,1445.0,1445.0],\"sizemode\":\"area\",\"sizeref\":3.6125,\"symbol\":\"circle\"},\"mode\":\"markers\",\"name\":\"Pike\",\"orientation\":\"v\",\"showlegend\":true,\"x\":[5.568,5.7078,5.9364,6.2884,7.29,6.396,7.28,6.825,7.786,6.96,7.792,7.68,8.9262,10.6863,9.6,9.6,10.812],\"xaxis\":\"x\",\"y\":[30.0,31.7,32.7,34.8,35.5,36.0,40.0,40.0,40.1,42.0,43.2,44.8,48.3,52.0,53.175000000000004,53.175000000000004,53.175000000000004],\"yaxis\":\"y\",\"type\":\"scatter\"},{\"hovertemplate\":\"Species=Smelt<br>Height=%{x}<br>Length1=%{y}<br>Weight=%{marker.size}<extra></extra>\",\"legendgroup\":\"Smelt\",\"marker\":{\"color\":\"#FF6692\",\"size\":[6.7,7.5,7.0,9.7,9.8,8.7,10.0,9.9,9.8,12.2,13.4,12.2,19.7,19.9],\"sizemode\":\"area\",\"sizeref\":3.6125,\"symbol\":\"circle\"},\"mode\":\"markers\",\"name\":\"Smelt\",\"orientation\":\"v\",\"showlegend\":true,\"x\":[1.7388,1.972,1.7284,2.196,2.0832,1.9782,2.2139,2.2139,2.2044,2.0904,2.43,2.277,2.8728,2.9322],\"xaxis\":\"x\",\"y\":[9.3,10.0,10.1,10.4,10.7,10.8,11.3,11.3,11.4,11.5,11.7,12.1,13.2,13.8],\"yaxis\":\"y\",\"type\":\"scatter\"}],                        {\"template\":{\"data\":{\"bar\":[{\"error_x\":{\"color\":\"#2a3f5f\"},\"error_y\":{\"color\":\"#2a3f5f\"},\"marker\":{\"line\":{\"color\":\"#E5ECF6\",\"width\":0.5},\"pattern\":{\"fillmode\":\"overlay\",\"size\":10,\"solidity\":0.2}},\"type\":\"bar\"}],\"barpolar\":[{\"marker\":{\"line\":{\"color\":\"#E5ECF6\",\"width\":0.5},\"pattern\":{\"fillmode\":\"overlay\",\"size\":10,\"solidity\":0.2}},\"type\":\"barpolar\"}],\"carpet\":[{\"aaxis\":{\"endlinecolor\":\"#2a3f5f\",\"gridcolor\":\"white\",\"linecolor\":\"white\",\"minorgridcolor\":\"white\",\"startlinecolor\":\"#2a3f5f\"},\"baxis\":{\"endlinecolor\":\"#2a3f5f\",\"gridcolor\":\"white\",\"linecolor\":\"white\",\"minorgridcolor\":\"white\",\"startlinecolor\":\"#2a3f5f\"},\"type\":\"carpet\"}],\"choropleth\":[{\"colorbar\":{\"outlinewidth\":0,\"ticks\":\"\"},\"type\":\"choropleth\"}],\"contour\":[{\"colorbar\":{\"outlinewidth\":0,\"ticks\":\"\"},\"colorscale\":[[0.0,\"#0d0887\"],[0.1111111111111111,\"#46039f\"],[0.2222222222222222,\"#7201a8\"],[0.3333333333333333,\"#9c179e\"],[0.4444444444444444,\"#bd3786\"],[0.5555555555555556,\"#d8576b\"],[0.6666666666666666,\"#ed7953\"],[0.7777777777777778,\"#fb9f3a\"],[0.8888888888888888,\"#fdca26\"],[1.0,\"#f0f921\"]],\"type\":\"contour\"}],\"contourcarpet\":[{\"colorbar\":{\"outlinewidth\":0,\"ticks\":\"\"},\"type\":\"contourcarpet\"}],\"heatmap\":[{\"colorbar\":{\"outlinewidth\":0,\"ticks\":\"\"},\"colorscale\":[[0.0,\"#0d0887\"],[0.1111111111111111,\"#46039f\"],[0.2222222222222222,\"#7201a8\"],[0.3333333333333333,\"#9c179e\"],[0.4444444444444444,\"#bd3786\"],[0.5555555555555556,\"#d8576b\"],[0.6666666666666666,\"#ed7953\"],[0.7777777777777778,\"#fb9f3a\"],[0.8888888888888888,\"#fdca26\"],[1.0,\"#f0f921\"]],\"type\":\"heatmap\"}],\"heatmapgl\":[{\"colorbar\":{\"outlinewidth\":0,\"ticks\":\"\"},\"colorscale\":[[0.0,\"#0d0887\"],[0.1111111111111111,\"#46039f\"],[0.2222222222222222,\"#7201a8\"],[0.3333333333333333,\"#9c179e\"],[0.4444444444444444,\"#bd3786\"],[0.5555555555555556,\"#d8576b\"],[0.6666666666666666,\"#ed7953\"],[0.7777777777777778,\"#fb9f3a\"],[0.8888888888888888,\"#fdca26\"],[1.0,\"#f0f921\"]],\"type\":\"heatmapgl\"}],\"histogram\":[{\"marker\":{\"pattern\":{\"fillmode\":\"overlay\",\"size\":10,\"solidity\":0.2}},\"type\":\"histogram\"}],\"histogram2d\":[{\"colorbar\":{\"outlinewidth\":0,\"ticks\":\"\"},\"colorscale\":[[0.0,\"#0d0887\"],[0.1111111111111111,\"#46039f\"],[0.2222222222222222,\"#7201a8\"],[0.3333333333333333,\"#9c179e\"],[0.4444444444444444,\"#bd3786\"],[0.5555555555555556,\"#d8576b\"],[0.6666666666666666,\"#ed7953\"],[0.7777777777777778,\"#fb9f3a\"],[0.8888888888888888,\"#fdca26\"],[1.0,\"#f0f921\"]],\"type\":\"histogram2d\"}],\"histogram2dcontour\":[{\"colorbar\":{\"outlinewidth\":0,\"ticks\":\"\"},\"colorscale\":[[0.0,\"#0d0887\"],[0.1111111111111111,\"#46039f\"],[0.2222222222222222,\"#7201a8\"],[0.3333333333333333,\"#9c179e\"],[0.4444444444444444,\"#bd3786\"],[0.5555555555555556,\"#d8576b\"],[0.6666666666666666,\"#ed7953\"],[0.7777777777777778,\"#fb9f3a\"],[0.8888888888888888,\"#fdca26\"],[1.0,\"#f0f921\"]],\"type\":\"histogram2dcontour\"}],\"mesh3d\":[{\"colorbar\":{\"outlinewidth\":0,\"ticks\":\"\"},\"type\":\"mesh3d\"}],\"parcoords\":[{\"line\":{\"colorbar\":{\"outlinewidth\":0,\"ticks\":\"\"}},\"type\":\"parcoords\"}],\"pie\":[{\"automargin\":true,\"type\":\"pie\"}],\"scatter\":[{\"marker\":{\"colorbar\":{\"outlinewidth\":0,\"ticks\":\"\"}},\"type\":\"scatter\"}],\"scatter3d\":[{\"line\":{\"colorbar\":{\"outlinewidth\":0,\"ticks\":\"\"}},\"marker\":{\"colorbar\":{\"outlinewidth\":0,\"ticks\":\"\"}},\"type\":\"scatter3d\"}],\"scattercarpet\":[{\"marker\":{\"colorbar\":{\"outlinewidth\":0,\"ticks\":\"\"}},\"type\":\"scattercarpet\"}],\"scattergeo\":[{\"marker\":{\"colorbar\":{\"outlinewidth\":0,\"ticks\":\"\"}},\"type\":\"scattergeo\"}],\"scattergl\":[{\"marker\":{\"colorbar\":{\"outlinewidth\":0,\"ticks\":\"\"}},\"type\":\"scattergl\"}],\"scattermapbox\":[{\"marker\":{\"colorbar\":{\"outlinewidth\":0,\"ticks\":\"\"}},\"type\":\"scattermapbox\"}],\"scatterpolar\":[{\"marker\":{\"colorbar\":{\"outlinewidth\":0,\"ticks\":\"\"}},\"type\":\"scatterpolar\"}],\"scatterpolargl\":[{\"marker\":{\"colorbar\":{\"outlinewidth\":0,\"ticks\":\"\"}},\"type\":\"scatterpolargl\"}],\"scatterternary\":[{\"marker\":{\"colorbar\":{\"outlinewidth\":0,\"ticks\":\"\"}},\"type\":\"scatterternary\"}],\"surface\":[{\"colorbar\":{\"outlinewidth\":0,\"ticks\":\"\"},\"colorscale\":[[0.0,\"#0d0887\"],[0.1111111111111111,\"#46039f\"],[0.2222222222222222,\"#7201a8\"],[0.3333333333333333,\"#9c179e\"],[0.4444444444444444,\"#bd3786\"],[0.5555555555555556,\"#d8576b\"],[0.6666666666666666,\"#ed7953\"],[0.7777777777777778,\"#fb9f3a\"],[0.8888888888888888,\"#fdca26\"],[1.0,\"#f0f921\"]],\"type\":\"surface\"}],\"table\":[{\"cells\":{\"fill\":{\"color\":\"#EBF0F8\"},\"line\":{\"color\":\"white\"}},\"header\":{\"fill\":{\"color\":\"#C8D4E3\"},\"line\":{\"color\":\"white\"}},\"type\":\"table\"}]},\"layout\":{\"annotationdefaults\":{\"arrowcolor\":\"#2a3f5f\",\"arrowhead\":0,\"arrowwidth\":1},\"autotypenumbers\":\"strict\",\"coloraxis\":{\"colorbar\":{\"outlinewidth\":0,\"ticks\":\"\"}},\"colorscale\":{\"diverging\":[[0,\"#8e0152\"],[0.1,\"#c51b7d\"],[0.2,\"#de77ae\"],[0.3,\"#f1b6da\"],[0.4,\"#fde0ef\"],[0.5,\"#f7f7f7\"],[0.6,\"#e6f5d0\"],[0.7,\"#b8e186\"],[0.8,\"#7fbc41\"],[0.9,\"#4d9221\"],[1,\"#276419\"]],\"sequential\":[[0.0,\"#0d0887\"],[0.1111111111111111,\"#46039f\"],[0.2222222222222222,\"#7201a8\"],[0.3333333333333333,\"#9c179e\"],[0.4444444444444444,\"#bd3786\"],[0.5555555555555556,\"#d8576b\"],[0.6666666666666666,\"#ed7953\"],[0.7777777777777778,\"#fb9f3a\"],[0.8888888888888888,\"#fdca26\"],[1.0,\"#f0f921\"]],\"sequentialminus\":[[0.0,\"#0d0887\"],[0.1111111111111111,\"#46039f\"],[0.2222222222222222,\"#7201a8\"],[0.3333333333333333,\"#9c179e\"],[0.4444444444444444,\"#bd3786\"],[0.5555555555555556,\"#d8576b\"],[0.6666666666666666,\"#ed7953\"],[0.7777777777777778,\"#fb9f3a\"],[0.8888888888888888,\"#fdca26\"],[1.0,\"#f0f921\"]]},\"colorway\":[\"#636efa\",\"#EF553B\",\"#00cc96\",\"#ab63fa\",\"#FFA15A\",\"#19d3f3\",\"#FF6692\",\"#B6E880\",\"#FF97FF\",\"#FECB52\"],\"font\":{\"color\":\"#2a3f5f\"},\"geo\":{\"bgcolor\":\"white\",\"lakecolor\":\"white\",\"landcolor\":\"#E5ECF6\",\"showlakes\":true,\"showland\":true,\"subunitcolor\":\"white\"},\"hoverlabel\":{\"align\":\"left\"},\"hovermode\":\"closest\",\"mapbox\":{\"style\":\"light\"},\"paper_bgcolor\":\"white\",\"plot_bgcolor\":\"#E5ECF6\",\"polar\":{\"angularaxis\":{\"gridcolor\":\"white\",\"linecolor\":\"white\",\"ticks\":\"\"},\"bgcolor\":\"#E5ECF6\",\"radialaxis\":{\"gridcolor\":\"white\",\"linecolor\":\"white\",\"ticks\":\"\"}},\"scene\":{\"xaxis\":{\"backgroundcolor\":\"#E5ECF6\",\"gridcolor\":\"white\",\"gridwidth\":2,\"linecolor\":\"white\",\"showbackground\":true,\"ticks\":\"\",\"zerolinecolor\":\"white\"},\"yaxis\":{\"backgroundcolor\":\"#E5ECF6\",\"gridcolor\":\"white\",\"gridwidth\":2,\"linecolor\":\"white\",\"showbackground\":true,\"ticks\":\"\",\"zerolinecolor\":\"white\"},\"zaxis\":{\"backgroundcolor\":\"#E5ECF6\",\"gridcolor\":\"white\",\"gridwidth\":2,\"linecolor\":\"white\",\"showbackground\":true,\"ticks\":\"\",\"zerolinecolor\":\"white\"}},\"shapedefaults\":{\"line\":{\"color\":\"#2a3f5f\"}},\"ternary\":{\"aaxis\":{\"gridcolor\":\"white\",\"linecolor\":\"white\",\"ticks\":\"\"},\"baxis\":{\"gridcolor\":\"white\",\"linecolor\":\"white\",\"ticks\":\"\"},\"bgcolor\":\"#E5ECF6\",\"caxis\":{\"gridcolor\":\"white\",\"linecolor\":\"white\",\"ticks\":\"\"}},\"title\":{\"x\":0.05},\"xaxis\":{\"automargin\":true,\"gridcolor\":\"white\",\"linecolor\":\"white\",\"ticks\":\"\",\"title\":{\"standoff\":15},\"zerolinecolor\":\"white\",\"zerolinewidth\":2},\"yaxis\":{\"automargin\":true,\"gridcolor\":\"white\",\"linecolor\":\"white\",\"ticks\":\"\",\"title\":{\"standoff\":15},\"zerolinecolor\":\"white\",\"zerolinewidth\":2}}},\"xaxis\":{\"anchor\":\"y\",\"domain\":[0.0,1.0],\"title\":{\"text\":\"Height\"}},\"yaxis\":{\"anchor\":\"x\",\"domain\":[0.0,1.0],\"title\":{\"text\":\"Length1\"}},\"legend\":{\"title\":{\"text\":\"Species\"},\"tracegroupgap\":0,\"itemsizing\":\"constant\"},\"margin\":{\"t\":60}},                        {\"responsive\": true}                    ).then(function(){\n",
              "                            \n",
              "var gd = document.getElementById('8a2153c2-1341-4e50-9e09-4d7d95253f1c');\n",
              "var x = new MutationObserver(function (mutations, observer) {{\n",
              "        var display = window.getComputedStyle(gd).display;\n",
              "        if (!display || display === 'none') {{\n",
              "            console.log([gd, 'removed!']);\n",
              "            Plotly.purge(gd);\n",
              "            observer.disconnect();\n",
              "        }}\n",
              "}});\n",
              "\n",
              "// Listen for the removal of the full notebook cells\n",
              "var notebookContainer = gd.closest('#notebook-container');\n",
              "if (notebookContainer) {{\n",
              "    x.observe(notebookContainer, {childList: true});\n",
              "}}\n",
              "\n",
              "// Listen for the clearing of the current output cell\n",
              "var outputEl = gd.closest('.output');\n",
              "if (outputEl) {{\n",
              "    x.observe(outputEl, {childList: true});\n",
              "}}\n",
              "\n",
              "                        })                };                            </script>        </div>\n",
              "</body>\n",
              "</html>"
            ]
          },
          "metadata": {}
        }
      ]
    },
    {
      "cell_type": "markdown",
      "source": [
        "Dari hasil analisis menyeluruh dapat melihat bahwa berat ikan tidak terpengaruh oleh spesiesnya tetapi memiliki nilai yang berbeda. Namun, spesies seperti Smelt dan Bream memiliki distribusi bobot yang rata-rata."
      ],
      "metadata": {
        "id": "sUfTCziZHkfy"
      }
    },
    {
      "cell_type": "code",
      "source": [
        "X=df.loc[:,'Weight':'Width']\n",
        "y=df['Species']\n",
        "X_train, X_test, y_train, y_test = train_test_split(X, y, test_size=0.3, random_state=42)"
      ],
      "metadata": {
        "id": "3avYbApSAIxM"
      },
      "execution_count": 90,
      "outputs": []
    },
    {
      "cell_type": "code",
      "source": [
        "print('Dimenstions of Train Set of features:',np.shape(X_train))\n",
        "print('Dimensions of Train Set of the target:',np.shape(y_train))\n",
        "print('Dimenstions of Test Set of features:',np.shape(X_test))\n",
        "print('Dimenstions of Test Set of the target:',np.shape(y_test))"
      ],
      "metadata": {
        "colab": {
          "base_uri": "https://localhost:8080/"
        },
        "id": "noJ9HOWcALft",
        "outputId": "6deb47e5-d505-457a-932b-e9266140cc07"
      },
      "execution_count": 91,
      "outputs": [
        {
          "output_type": "stream",
          "name": "stdout",
          "text": [
            "Dimenstions of Train Set of features: (111, 6)\n",
            "Dimensions of Train Set of the target: (111,)\n",
            "Dimenstions of Test Set of features: (48, 6)\n",
            "Dimenstions of Test Set of the target: (48,)\n"
          ]
        }
      ]
    },
    {
      "cell_type": "code",
      "source": [
        "logreg=LogisticRegression(max_iter=100000).fit(X_train,y_train)"
      ],
      "metadata": {
        "id": "tLuko2o7G1Un"
      },
      "execution_count": 92,
      "outputs": []
    },
    {
      "cell_type": "markdown",
      "source": [
        "Disini saya akan menggunakan nilai default untuk Logistic Regression"
      ],
      "metadata": {
        "id": "dNaUhn2fJxNB"
      }
    },
    {
      "cell_type": "code",
      "source": [
        "print('Model intercept: ', logreg.intercept_)\n",
        "print('Model coefficients: ',logreg.coef_)"
      ],
      "metadata": {
        "colab": {
          "base_uri": "https://localhost:8080/"
        },
        "id": "RqsWScYnHrrf",
        "outputId": "3a39ff8a-5433-4b59-c47e-ebbc1bf519e3"
      },
      "execution_count": 93,
      "outputs": [
        {
          "output_type": "stream",
          "name": "stdout",
          "text": [
            "Model intercept:  [-18.3544325   10.73796824  12.10573016 -21.44480039   2.83062182\n",
            "  12.20904591   1.91586676]\n",
            "Model coefficients:  [[ 0.00688137 -0.54584641 -0.33782895  0.98562312  1.52265022 -0.17903612]\n",
            " [ 0.01945984 -0.08027155 -0.23880844 -0.60376729  1.5652002  -0.14815723]\n",
            " [ 0.02785054  0.4260157   1.59858156 -2.12604491 -0.80452384  0.32793568]\n",
            " [-0.00260566  0.30024904  0.31511703  0.45655423 -0.65454155 -0.21539026]\n",
            " [ 0.00251326  0.02256282 -1.28263898  1.25721841 -0.32825443  0.37222861]\n",
            " [-0.07810251  0.33514352  0.02355818 -0.14952503 -1.50278813 -0.60130505]\n",
            " [ 0.02400317 -0.45785313 -0.0779804   0.17994147  0.20225751  0.44372438]]\n"
          ]
        }
      ]
    },
    {
      "cell_type": "code",
      "source": [
        "print(\"Training set score: {:.3f}\".format(logreg.score(X_train, y_train)))\n",
        "print(\"Test set score: {:.3f}\".format(logreg.score(X_test, y_test)))"
      ],
      "metadata": {
        "colab": {
          "base_uri": "https://localhost:8080/"
        },
        "id": "peQNVaffJ31R",
        "outputId": "6c86b4db-f35d-4762-ddba-c7f0c2ec5b23"
      },
      "execution_count": 94,
      "outputs": [
        {
          "output_type": "stream",
          "name": "stdout",
          "text": [
            "Training set score: 0.973\n",
            "Test set score: 0.938\n"
          ]
        }
      ]
    },
    {
      "cell_type": "markdown",
      "source": [
        "Dapat dilihat saya mendapatkan Train score 0.973 dan Test score 0.938. Dapat dikatakan model saya berjalan dengan baik"
      ],
      "metadata": {
        "id": "GXzSUalQJ7BO"
      }
    },
    {
      "cell_type": "code",
      "source": [
        "from sklearn.metrics import classification_report,confusion_matrix"
      ],
      "metadata": {
        "id": "KKU0DES-J6R-"
      },
      "execution_count": 95,
      "outputs": []
    },
    {
      "cell_type": "code",
      "source": [
        "pred1=logreg.predict(X_test)\n",
        "print(confusion_matrix(y_test,pred1))\n",
        "print('\\n')\n",
        "print(classification_report(y_test,pred1))"
      ],
      "metadata": {
        "colab": {
          "base_uri": "https://localhost:8080/"
        },
        "id": "qzTpwSIWKKkc",
        "outputId": "1e1a3189-8d32-481c-d13a-8a83ef3b54f6"
      },
      "execution_count": 96,
      "outputs": [
        {
          "output_type": "stream",
          "name": "stdout",
          "text": [
            "[[13  0  0  0  0  0  0]\n",
            " [ 0  3  0  0  0  0  0]\n",
            " [ 0  0 14  0  0  0  0]\n",
            " [ 0  0  0  5  0  0  0]\n",
            " [ 0  0  0  0  4  0  0]\n",
            " [ 0  0  0  0  0  6  0]\n",
            " [ 0  0  1  0  2  0  0]]\n",
            "\n",
            "\n",
            "              precision    recall  f1-score   support\n",
            "\n",
            "       Bream       1.00      1.00      1.00        13\n",
            "      Parkki       1.00      1.00      1.00         3\n",
            "       Perch       0.93      1.00      0.97        14\n",
            "        Pike       1.00      1.00      1.00         5\n",
            "       Roach       0.67      1.00      0.80         4\n",
            "       Smelt       1.00      1.00      1.00         6\n",
            "   Whitefish       0.00      0.00      0.00         3\n",
            "\n",
            "    accuracy                           0.94        48\n",
            "   macro avg       0.80      0.86      0.82        48\n",
            "weighted avg       0.89      0.94      0.91        48\n",
            "\n"
          ]
        },
        {
          "output_type": "stream",
          "name": "stderr",
          "text": [
            "/usr/local/lib/python3.7/dist-packages/sklearn/metrics/_classification.py:1318: UndefinedMetricWarning:\n",
            "\n",
            "Precision and F-score are ill-defined and being set to 0.0 in labels with no predicted samples. Use `zero_division` parameter to control this behavior.\n",
            "\n",
            "/usr/local/lib/python3.7/dist-packages/sklearn/metrics/_classification.py:1318: UndefinedMetricWarning:\n",
            "\n",
            "Precision and F-score are ill-defined and being set to 0.0 in labels with no predicted samples. Use `zero_division` parameter to control this behavior.\n",
            "\n",
            "/usr/local/lib/python3.7/dist-packages/sklearn/metrics/_classification.py:1318: UndefinedMetricWarning:\n",
            "\n",
            "Precision and F-score are ill-defined and being set to 0.0 in labels with no predicted samples. Use `zero_division` parameter to control this behavior.\n",
            "\n"
          ]
        }
      ]
    },
    {
      "cell_type": "code",
      "source": [
        "logreg.predict([[400,26.0,30.0,37.0,12.3,5.0]])"
      ],
      "metadata": {
        "colab": {
          "base_uri": "https://localhost:8080/"
        },
        "id": "JJF3QUytVhzU",
        "outputId": "e1d86ce8-a3a8-49b1-c1d8-9c2f69228ee1"
      },
      "execution_count": 97,
      "outputs": [
        {
          "output_type": "stream",
          "name": "stderr",
          "text": [
            "/usr/local/lib/python3.7/dist-packages/sklearn/base.py:451: UserWarning:\n",
            "\n",
            "X does not have valid feature names, but LogisticRegression was fitted with feature names\n",
            "\n"
          ]
        },
        {
          "output_type": "execute_result",
          "data": {
            "text/plain": [
              "array(['Bream'], dtype=object)"
            ]
          },
          "metadata": {},
          "execution_count": 97
        }
      ]
    },
    {
      "cell_type": "markdown",
      "source": [
        "Meskipun dataset yang saya gunakan cukup kecil, tetapi model yang telah saya buat dapat menghasilkan skor yang sangat baik yaitu dengan skor train: 0,973 dan test skor: 0,938. Jika saya memiliki jumlah spesies yang terdistribusi secara merata dalam kumpulan data yang saya punya, maka kemungkinan untuk 'menebak' yang benar adalah 1/7. Sebaliknya, jika saya memiliki nilai spesies yang berbeda, maka total terdiri dari 159 spesies. Jadi untuk menebak probabilitas 'perch' adalah 56/159, dan spesies lain 35/159, 20/159, 17/159,14/159, 11/159 dan 6/159. Jumlah spesies yang cukup kecil untuk memiliki demonstrasi Regresi Logistik yang akurat. Selain itu, memiliki beberapa fitur khusus seperti berat, panjang, dll., kemungkinan untuk menemukan jenis yang akurat akan meningkat secara signifikan. Salah satu cara untuk menunjukkan potensi tinggi adalah memiliki jumlah spesies yang lebih banyak."
      ],
      "metadata": {
        "id": "OIVmW5sAYvLy"
      }
    },
    {
      "cell_type": "code",
      "source": [
        ""
      ],
      "metadata": {
        "id": "ArNHgIh-Vmbr"
      },
      "execution_count": null,
      "outputs": []
    }
  ]
}